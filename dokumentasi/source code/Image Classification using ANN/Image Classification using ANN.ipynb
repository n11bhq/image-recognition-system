{
 "cells": [
  {
   "cell_type": "markdown",
   "metadata": {},
   "source": [
    "<h3>1. Import module yang dibutuhkan</h3>"
   ]
  },
  {
   "cell_type": "code",
   "execution_count": 94,
   "metadata": {},
   "outputs": [],
   "source": [
    "from sklearn.model_selection import train_test_split\n",
    "from sklearn.preprocessing import LabelEncoder\n",
    "from sklearn.metrics import classification_report\n",
    "from tensorflow.keras.models import Sequential\n",
    "from tensorflow.keras.layers import Flatten, Dense\n",
    "from tensorflow.keras.optimizers import SGD\n",
    "import numpy as np\n",
    "import cv2\n",
    "import glob\n",
    "import matplotlib.pyplot as plt"
   ]
  },
  {
   "cell_type": "markdown",
   "metadata": {},
   "source": [
    "<h3>2. Load Dataset</h3>"
   ]
  },
  {
   "cell_type": "code",
   "execution_count": 95,
   "metadata": {},
   "outputs": [],
   "source": [
    "imagePaths = 'dataset\\\\daun\\\\'\n",
    "label_list = ['daun_nangka', 'daun_belimbingwuluh']\n",
    "data = []\n",
    "labels = []"
   ]
  },
  {
   "cell_type": "code",
   "execution_count": 96,
   "metadata": {},
   "outputs": [],
   "source": [
    "for label in label_list:\n",
    "    for imagePath in glob.glob(imagePaths+label+'\\\\*.jpg'):\n",
    "        #print(imagePath)\n",
    "        image = cv2.imread(imagePath)\n",
    "        image = cv2.resize(image, (32, 32))\n",
    "        data.append(image)\n",
    "        labels.append(label)"
   ]
  },
  {
   "cell_type": "code",
   "execution_count": 97,
   "metadata": {},
   "outputs": [
    {
     "data": {
      "text/plain": [
       "(100, 32, 32, 3)"
      ]
     },
     "execution_count": 97,
     "metadata": {},
     "output_type": "execute_result"
    }
   ],
   "source": [
    "np.array(data).shape"
   ]
  },
  {
   "cell_type": "markdown",
   "metadata": {},
   "source": [
    "<h3>3. Data Preprocessing</h3>"
   ]
  },
  {
   "cell_type": "code",
   "execution_count": 73,
   "metadata": {},
   "outputs": [],
   "source": [
    "# ubah type data dari list menjadi array\n",
    "# ubah nilai dari tiap pixel menjadi range [0..1]\n",
    "data = np.array(data, dtype='float') / 255.0\n",
    "labels = np.array(labels)"
   ]
  },
  {
   "cell_type": "code",
   "execution_count": 74,
   "metadata": {},
   "outputs": [
    {
     "name": "stdout",
     "output_type": "stream",
     "text": [
      "['daun_nangka' 'daun_nangka' 'daun_nangka' 'daun_nangka' 'daun_nangka'\n",
      " 'daun_nangka' 'daun_nangka' 'daun_nangka' 'daun_nangka' 'daun_nangka'\n",
      " 'daun_nangka' 'daun_nangka' 'daun_nangka' 'daun_nangka' 'daun_nangka'\n",
      " 'daun_nangka' 'daun_nangka' 'daun_nangka' 'daun_nangka' 'daun_nangka'\n",
      " 'daun_nangka' 'daun_nangka' 'daun_nangka' 'daun_nangka' 'daun_nangka'\n",
      " 'daun_nangka' 'daun_nangka' 'daun_nangka' 'daun_nangka' 'daun_nangka'\n",
      " 'daun_nangka' 'daun_nangka' 'daun_nangka' 'daun_nangka' 'daun_nangka'\n",
      " 'daun_nangka' 'daun_nangka' 'daun_nangka' 'daun_nangka' 'daun_nangka'\n",
      " 'daun_nangka' 'daun_nangka' 'daun_nangka' 'daun_nangka' 'daun_nangka'\n",
      " 'daun_nangka' 'daun_nangka' 'daun_nangka' 'daun_nangka' 'daun_nangka'\n",
      " 'daun_belimbingwuluh' 'daun_belimbingwuluh' 'daun_belimbingwuluh'\n",
      " 'daun_belimbingwuluh' 'daun_belimbingwuluh' 'daun_belimbingwuluh'\n",
      " 'daun_belimbingwuluh' 'daun_belimbingwuluh' 'daun_belimbingwuluh'\n",
      " 'daun_belimbingwuluh' 'daun_belimbingwuluh' 'daun_belimbingwuluh'\n",
      " 'daun_belimbingwuluh' 'daun_belimbingwuluh' 'daun_belimbingwuluh'\n",
      " 'daun_belimbingwuluh' 'daun_belimbingwuluh' 'daun_belimbingwuluh'\n",
      " 'daun_belimbingwuluh' 'daun_belimbingwuluh' 'daun_belimbingwuluh'\n",
      " 'daun_belimbingwuluh' 'daun_belimbingwuluh' 'daun_belimbingwuluh'\n",
      " 'daun_belimbingwuluh' 'daun_belimbingwuluh' 'daun_belimbingwuluh'\n",
      " 'daun_belimbingwuluh' 'daun_belimbingwuluh' 'daun_belimbingwuluh'\n",
      " 'daun_belimbingwuluh' 'daun_belimbingwuluh' 'daun_belimbingwuluh'\n",
      " 'daun_belimbingwuluh' 'daun_belimbingwuluh' 'daun_belimbingwuluh'\n",
      " 'daun_belimbingwuluh' 'daun_belimbingwuluh' 'daun_belimbingwuluh'\n",
      " 'daun_belimbingwuluh' 'daun_belimbingwuluh' 'daun_belimbingwuluh'\n",
      " 'daun_belimbingwuluh' 'daun_belimbingwuluh' 'daun_belimbingwuluh'\n",
      " 'daun_belimbingwuluh' 'daun_belimbingwuluh' 'daun_belimbingwuluh'\n",
      " 'daun_belimbingwuluh' 'daun_belimbingwuluh']\n"
     ]
    }
   ],
   "source": [
    "print(labels)"
   ]
  },
  {
   "cell_type": "code",
   "execution_count": 75,
   "metadata": {},
   "outputs": [
    {
     "name": "stdout",
     "output_type": "stream",
     "text": [
      "[1 1 1 1 1 1 1 1 1 1 1 1 1 1 1 1 1 1 1 1 1 1 1 1 1 1 1 1 1 1 1 1 1 1 1 1 1\n",
      " 1 1 1 1 1 1 1 1 1 1 1 1 1 0 0 0 0 0 0 0 0 0 0 0 0 0 0 0 0 0 0 0 0 0 0 0 0\n",
      " 0 0 0 0 0 0 0 0 0 0 0 0 0 0 0 0 0 0 0 0 0 0 0 0 0 0]\n"
     ]
    }
   ],
   "source": [
    "# ubah nilai dari labels menjadi binary\n",
    "lb = LabelEncoder()\n",
    "labels = lb.fit_transform(labels)\n",
    "print(labels)"
   ]
  },
  {
   "cell_type": "markdown",
   "metadata": {},
   "source": [
    "<h3>4. Split Dataset</h3>"
   ]
  },
  {
   "cell_type": "code",
   "execution_count": 76,
   "metadata": {},
   "outputs": [],
   "source": [
    "x_train, x_test, y_train, y_test = train_test_split(data, labels, test_size=0.2, random_state=42)"
   ]
  },
  {
   "cell_type": "code",
   "execution_count": 77,
   "metadata": {},
   "outputs": [
    {
     "name": "stdout",
     "output_type": "stream",
     "text": [
      "Ukuran data train = (80, 32, 32, 3)\n",
      "Ukuran data test = (20, 32, 32, 3)\n"
     ]
    }
   ],
   "source": [
    "print('Ukuran data train =', x_train.shape)\n",
    "print('Ukuran data test =', x_test.shape)"
   ]
  },
  {
   "cell_type": "markdown",
   "metadata": {},
   "source": [
    "<h3>5. Build ANN Architecture</h3>"
   ]
  },
  {
   "cell_type": "code",
   "execution_count": 78,
   "metadata": {},
   "outputs": [],
   "source": [
    "model = Sequential()\n",
    "model.add(Flatten(input_shape=(32,32,3)))\n",
    "model.add(Dense(1024, activation=\"relu\"))\n",
    "model.add(Dense(1024, activation=\"relu\"))\n",
    "model.add(Dense(1, activation=\"sigmoid\"))"
   ]
  },
  {
   "cell_type": "code",
   "execution_count": 79,
   "metadata": {},
   "outputs": [
    {
     "name": "stdout",
     "output_type": "stream",
     "text": [
      "Model: \"sequential_3\"\n",
      "_________________________________________________________________\n",
      " Layer (type)                Output Shape              Param #   \n",
      "=================================================================\n",
      " flatten_3 (Flatten)         (None, 3072)              0         \n",
      "                                                                 \n",
      " dense_9 (Dense)             (None, 1024)              3146752   \n",
      "                                                                 \n",
      " dense_10 (Dense)            (None, 1024)              1049600   \n",
      "                                                                 \n",
      " dense_11 (Dense)            (None, 1)                 1025      \n",
      "                                                                 \n",
      "=================================================================\n",
      "Total params: 4,197,377\n",
      "Trainable params: 4,197,377\n",
      "Non-trainable params: 0\n",
      "_________________________________________________________________\n"
     ]
    }
   ],
   "source": [
    "model.summary()"
   ]
  },
  {
   "cell_type": "code",
   "execution_count": 80,
   "metadata": {},
   "outputs": [],
   "source": [
    "# tentukan hyperparameter\n",
    "lr = 0.01\n",
    "max_epochs = 200\n",
    "opt_funct = SGD(learning_rate=lr)"
   ]
  },
  {
   "cell_type": "code",
   "execution_count": 81,
   "metadata": {},
   "outputs": [],
   "source": [
    "# compile arsitektur yang telah dibuat\n",
    "model.compile(loss = 'binary_crossentropy', \n",
    "              optimizer = opt_funct, \n",
    "              metrics = ['accuracy'])"
   ]
  },
  {
   "cell_type": "markdown",
   "metadata": {},
   "source": [
    "<h3>6. Train Model</h3>"
   ]
  },
  {
   "cell_type": "code",
   "execution_count": 82,
   "metadata": {},
   "outputs": [
    {
     "name": "stdout",
     "output_type": "stream",
     "text": [
      "Epoch 1/200\n",
      "3/3 [==============================] - 1s 110ms/step - loss: 1.3429 - accuracy: 0.5000 - val_loss: 0.7875 - val_accuracy: 0.6000\n",
      "Epoch 2/200\n",
      "3/3 [==============================] - 0s 28ms/step - loss: 0.9332 - accuracy: 0.5000 - val_loss: 1.6251 - val_accuracy: 0.4000\n",
      "Epoch 3/200\n",
      "3/3 [==============================] - 0s 27ms/step - loss: 0.9055 - accuracy: 0.4625 - val_loss: 0.7051 - val_accuracy: 0.6000\n",
      "Epoch 4/200\n",
      "3/3 [==============================] - 0s 27ms/step - loss: 0.5322 - accuracy: 0.7500 - val_loss: 0.5173 - val_accuracy: 0.7000\n",
      "Epoch 5/200\n",
      "3/3 [==============================] - 0s 28ms/step - loss: 0.5077 - accuracy: 0.7000 - val_loss: 0.5088 - val_accuracy: 0.6000\n",
      "Epoch 6/200\n",
      "3/3 [==============================] - 0s 27ms/step - loss: 0.5968 - accuracy: 0.5500 - val_loss: 0.3694 - val_accuracy: 0.9500\n",
      "Epoch 7/200\n",
      "3/3 [==============================] - 0s 28ms/step - loss: 0.4047 - accuracy: 0.8125 - val_loss: 1.1183 - val_accuracy: 0.4000\n",
      "Epoch 8/200\n",
      "3/3 [==============================] - 0s 28ms/step - loss: 0.5266 - accuracy: 0.8000 - val_loss: 0.3412 - val_accuracy: 0.8500\n",
      "Epoch 9/200\n",
      "3/3 [==============================] - 0s 29ms/step - loss: 0.3496 - accuracy: 0.9000 - val_loss: 0.3052 - val_accuracy: 0.9500\n",
      "Epoch 10/200\n",
      "3/3 [==============================] - 0s 31ms/step - loss: 0.3414 - accuracy: 0.8875 - val_loss: 0.4229 - val_accuracy: 0.7000\n",
      "Epoch 11/200\n",
      "3/3 [==============================] - 0s 30ms/step - loss: 0.3524 - accuracy: 0.8250 - val_loss: 0.2995 - val_accuracy: 0.9000\n",
      "Epoch 12/200\n",
      "3/3 [==============================] - 0s 30ms/step - loss: 0.2621 - accuracy: 0.9500 - val_loss: 0.2900 - val_accuracy: 0.9000\n",
      "Epoch 13/200\n",
      "3/3 [==============================] - 0s 27ms/step - loss: 0.3567 - accuracy: 0.8750 - val_loss: 0.6778 - val_accuracy: 0.6000\n",
      "Epoch 14/200\n",
      "3/3 [==============================] - 0s 27ms/step - loss: 0.7922 - accuracy: 0.5500 - val_loss: 0.2774 - val_accuracy: 0.9000\n",
      "Epoch 15/200\n",
      "3/3 [==============================] - 0s 32ms/step - loss: 0.2183 - accuracy: 0.9500 - val_loss: 0.3198 - val_accuracy: 0.8500\n",
      "Epoch 16/200\n",
      "3/3 [==============================] - 0s 32ms/step - loss: 0.2815 - accuracy: 0.8750 - val_loss: 0.2336 - val_accuracy: 0.9500\n",
      "Epoch 17/200\n",
      "3/3 [==============================] - 0s 31ms/step - loss: 0.2050 - accuracy: 0.9375 - val_loss: 0.2104 - val_accuracy: 0.9500\n",
      "Epoch 18/200\n",
      "3/3 [==============================] - 0s 28ms/step - loss: 0.1811 - accuracy: 0.9625 - val_loss: 0.1909 - val_accuracy: 0.9500\n",
      "Epoch 19/200\n",
      "3/3 [==============================] - 0s 31ms/step - loss: 0.1789 - accuracy: 0.9625 - val_loss: 0.1816 - val_accuracy: 1.0000\n",
      "Epoch 20/200\n",
      "3/3 [==============================] - 0s 31ms/step - loss: 0.1801 - accuracy: 0.9500 - val_loss: 0.2007 - val_accuracy: 0.9500\n",
      "Epoch 21/200\n",
      "3/3 [==============================] - 0s 33ms/step - loss: 0.2477 - accuracy: 0.9250 - val_loss: 0.1899 - val_accuracy: 0.9500\n",
      "Epoch 22/200\n",
      "3/3 [==============================] - 0s 28ms/step - loss: 0.1497 - accuracy: 0.9625 - val_loss: 0.1840 - val_accuracy: 0.9500\n",
      "Epoch 23/200\n",
      "3/3 [==============================] - 0s 28ms/step - loss: 0.1467 - accuracy: 0.9625 - val_loss: 0.2527 - val_accuracy: 0.8500\n",
      "Epoch 24/200\n",
      "3/3 [==============================] - 0s 31ms/step - loss: 0.2748 - accuracy: 0.9125 - val_loss: 0.1821 - val_accuracy: 0.9500\n",
      "Epoch 25/200\n",
      "3/3 [==============================] - 0s 41ms/step - loss: 0.1852 - accuracy: 0.9625 - val_loss: 0.2177 - val_accuracy: 0.9000\n",
      "Epoch 26/200\n",
      "3/3 [==============================] - 0s 29ms/step - loss: 0.1465 - accuracy: 0.9750 - val_loss: 0.2560 - val_accuracy: 0.8500\n",
      "Epoch 27/200\n",
      "3/3 [==============================] - 0s 28ms/step - loss: 0.1539 - accuracy: 0.9625 - val_loss: 0.2334 - val_accuracy: 0.8500\n",
      "Epoch 28/200\n",
      "3/3 [==============================] - 0s 27ms/step - loss: 0.1287 - accuracy: 0.9625 - val_loss: 0.2185 - val_accuracy: 0.8500\n",
      "Epoch 29/200\n",
      "3/3 [==============================] - 0s 29ms/step - loss: 0.1457 - accuracy: 0.9625 - val_loss: 0.1399 - val_accuracy: 1.0000\n",
      "Epoch 30/200\n",
      "3/3 [==============================] - 0s 29ms/step - loss: 0.1470 - accuracy: 0.9750 - val_loss: 0.2423 - val_accuracy: 0.8500\n",
      "Epoch 31/200\n",
      "3/3 [==============================] - 0s 27ms/step - loss: 0.1263 - accuracy: 0.9750 - val_loss: 0.2165 - val_accuracy: 0.8500\n",
      "Epoch 32/200\n",
      "3/3 [==============================] - 0s 25ms/step - loss: 0.1126 - accuracy: 0.9875 - val_loss: 0.1731 - val_accuracy: 0.9000\n",
      "Epoch 33/200\n",
      "3/3 [==============================] - 0s 25ms/step - loss: 0.1242 - accuracy: 0.9625 - val_loss: 0.3266 - val_accuracy: 0.8500\n",
      "Epoch 34/200\n",
      "3/3 [==============================] - 0s 25ms/step - loss: 0.1639 - accuracy: 0.9500 - val_loss: 0.1913 - val_accuracy: 0.9000\n",
      "Epoch 35/200\n",
      "3/3 [==============================] - 0s 27ms/step - loss: 0.1130 - accuracy: 0.9750 - val_loss: 0.2258 - val_accuracy: 0.8500\n",
      "Epoch 36/200\n",
      "3/3 [==============================] - 0s 26ms/step - loss: 0.2426 - accuracy: 0.8625 - val_loss: 0.1258 - val_accuracy: 1.0000\n",
      "Epoch 37/200\n",
      "3/3 [==============================] - 0s 24ms/step - loss: 0.1117 - accuracy: 0.9875 - val_loss: 0.1035 - val_accuracy: 1.0000\n",
      "Epoch 38/200\n",
      "3/3 [==============================] - 0s 23ms/step - loss: 0.0892 - accuracy: 0.9750 - val_loss: 0.1205 - val_accuracy: 0.9500\n",
      "Epoch 39/200\n",
      "3/3 [==============================] - 0s 23ms/step - loss: 0.0849 - accuracy: 0.9750 - val_loss: 0.1106 - val_accuracy: 0.9500\n",
      "Epoch 40/200\n",
      "3/3 [==============================] - 0s 23ms/step - loss: 0.0818 - accuracy: 0.9875 - val_loss: 0.1166 - val_accuracy: 0.9500\n",
      "Epoch 41/200\n",
      "3/3 [==============================] - 0s 24ms/step - loss: 0.0815 - accuracy: 0.9750 - val_loss: 0.1363 - val_accuracy: 0.9500\n",
      "Epoch 42/200\n",
      "3/3 [==============================] - 0s 24ms/step - loss: 0.0804 - accuracy: 0.9750 - val_loss: 0.1455 - val_accuracy: 0.9500\n",
      "Epoch 43/200\n",
      "3/3 [==============================] - 0s 24ms/step - loss: 0.0843 - accuracy: 0.9750 - val_loss: 0.2159 - val_accuracy: 0.8500\n",
      "Epoch 44/200\n",
      "3/3 [==============================] - 0s 25ms/step - loss: 0.1221 - accuracy: 0.9625 - val_loss: 0.1663 - val_accuracy: 0.9000\n",
      "Epoch 45/200\n",
      "3/3 [==============================] - 0s 22ms/step - loss: 0.0722 - accuracy: 1.0000 - val_loss: 0.0887 - val_accuracy: 1.0000\n",
      "Epoch 46/200\n",
      "3/3 [==============================] - 0s 22ms/step - loss: 0.0713 - accuracy: 0.9875 - val_loss: 0.1096 - val_accuracy: 0.9500\n",
      "Epoch 47/200\n",
      "3/3 [==============================] - 0s 23ms/step - loss: 0.0734 - accuracy: 1.0000 - val_loss: 0.1054 - val_accuracy: 0.9500\n",
      "Epoch 48/200\n",
      "3/3 [==============================] - 0s 24ms/step - loss: 0.0804 - accuracy: 0.9750 - val_loss: 0.2567 - val_accuracy: 0.8500\n",
      "Epoch 49/200\n",
      "3/3 [==============================] - 0s 24ms/step - loss: 0.0927 - accuracy: 0.9625 - val_loss: 0.1406 - val_accuracy: 0.9500\n",
      "Epoch 50/200\n",
      "3/3 [==============================] - 0s 24ms/step - loss: 0.1104 - accuracy: 0.9625 - val_loss: 0.1016 - val_accuracy: 0.9500\n",
      "Epoch 51/200\n",
      "3/3 [==============================] - 0s 23ms/step - loss: 0.0657 - accuracy: 0.9875 - val_loss: 0.1968 - val_accuracy: 0.8500\n",
      "Epoch 52/200\n",
      "3/3 [==============================] - 0s 25ms/step - loss: 0.0814 - accuracy: 0.9750 - val_loss: 0.1494 - val_accuracy: 0.9000\n",
      "Epoch 53/200\n",
      "3/3 [==============================] - 0s 23ms/step - loss: 0.0601 - accuracy: 0.9875 - val_loss: 0.0766 - val_accuracy: 1.0000\n",
      "Epoch 54/200\n",
      "3/3 [==============================] - 0s 24ms/step - loss: 0.0579 - accuracy: 1.0000 - val_loss: 0.1533 - val_accuracy: 0.9000\n",
      "Epoch 55/200\n",
      "3/3 [==============================] - 0s 24ms/step - loss: 0.0927 - accuracy: 0.9625 - val_loss: 0.1016 - val_accuracy: 0.9500\n",
      "Epoch 56/200\n",
      "3/3 [==============================] - 0s 24ms/step - loss: 0.0607 - accuracy: 0.9875 - val_loss: 0.0720 - val_accuracy: 1.0000\n",
      "Epoch 57/200\n",
      "3/3 [==============================] - 0s 23ms/step - loss: 0.0708 - accuracy: 0.9750 - val_loss: 0.0814 - val_accuracy: 1.0000\n",
      "Epoch 58/200\n",
      "3/3 [==============================] - 0s 22ms/step - loss: 0.0626 - accuracy: 0.9875 - val_loss: 0.0924 - val_accuracy: 0.9500\n",
      "Epoch 59/200\n",
      "3/3 [==============================] - 0s 25ms/step - loss: 0.0707 - accuracy: 0.9875 - val_loss: 0.1577 - val_accuracy: 0.9000\n",
      "Epoch 60/200\n",
      "3/3 [==============================] - 0s 24ms/step - loss: 0.0589 - accuracy: 0.9875 - val_loss: 0.1522 - val_accuracy: 0.9000\n",
      "Epoch 61/200\n",
      "3/3 [==============================] - 0s 25ms/step - loss: 0.0654 - accuracy: 0.9750 - val_loss: 0.2105 - val_accuracy: 0.8500\n",
      "Epoch 62/200\n",
      "3/3 [==============================] - 0s 23ms/step - loss: 0.0886 - accuracy: 0.9625 - val_loss: 0.0985 - val_accuracy: 0.9500\n",
      "Epoch 63/200\n",
      "3/3 [==============================] - 0s 23ms/step - loss: 0.0480 - accuracy: 1.0000 - val_loss: 0.0838 - val_accuracy: 0.9500\n",
      "Epoch 64/200\n",
      "3/3 [==============================] - 0s 25ms/step - loss: 0.0487 - accuracy: 1.0000 - val_loss: 0.1598 - val_accuracy: 0.9000\n",
      "Epoch 65/200\n",
      "3/3 [==============================] - 0s 24ms/step - loss: 0.0787 - accuracy: 0.9625 - val_loss: 0.1258 - val_accuracy: 0.9500\n",
      "Epoch 66/200\n",
      "3/3 [==============================] - 0s 25ms/step - loss: 0.0472 - accuracy: 0.9875 - val_loss: 0.0831 - val_accuracy: 0.9500\n",
      "Epoch 67/200\n",
      "3/3 [==============================] - 0s 23ms/step - loss: 0.0469 - accuracy: 0.9875 - val_loss: 0.0622 - val_accuracy: 1.0000\n",
      "Epoch 68/200\n",
      "3/3 [==============================] - 0s 23ms/step - loss: 0.0471 - accuracy: 0.9875 - val_loss: 0.1793 - val_accuracy: 0.9000\n",
      "Epoch 69/200\n",
      "3/3 [==============================] - 0s 23ms/step - loss: 0.0726 - accuracy: 0.9750 - val_loss: 0.0636 - val_accuracy: 1.0000\n",
      "Epoch 70/200\n",
      "3/3 [==============================] - 0s 26ms/step - loss: 0.0470 - accuracy: 1.0000 - val_loss: 0.0598 - val_accuracy: 1.0000\n",
      "Epoch 71/200\n",
      "3/3 [==============================] - 0s 27ms/step - loss: 0.0555 - accuracy: 0.9875 - val_loss: 0.0596 - val_accuracy: 1.0000\n",
      "Epoch 72/200\n",
      "3/3 [==============================] - 0s 23ms/step - loss: 0.0504 - accuracy: 0.9875 - val_loss: 0.0590 - val_accuracy: 1.0000\n",
      "Epoch 73/200\n",
      "3/3 [==============================] - 0s 23ms/step - loss: 0.0569 - accuracy: 0.9875 - val_loss: 0.0965 - val_accuracy: 0.9500\n",
      "Epoch 74/200\n",
      "3/3 [==============================] - 0s 23ms/step - loss: 0.0420 - accuracy: 1.0000 - val_loss: 0.1714 - val_accuracy: 0.9000\n",
      "Epoch 75/200\n",
      "3/3 [==============================] - 0s 23ms/step - loss: 0.0469 - accuracy: 0.9875 - val_loss: 0.0714 - val_accuracy: 1.0000\n",
      "Epoch 76/200\n",
      "3/3 [==============================] - 0s 26ms/step - loss: 0.0417 - accuracy: 1.0000 - val_loss: 0.0554 - val_accuracy: 1.0000\n",
      "Epoch 77/200\n",
      "3/3 [==============================] - 0s 25ms/step - loss: 0.0521 - accuracy: 0.9875 - val_loss: 0.1394 - val_accuracy: 0.9500\n",
      "Epoch 78/200\n",
      "3/3 [==============================] - 0s 23ms/step - loss: 0.0394 - accuracy: 1.0000 - val_loss: 0.0525 - val_accuracy: 1.0000\n",
      "Epoch 79/200\n",
      "3/3 [==============================] - 0s 23ms/step - loss: 0.0464 - accuracy: 1.0000 - val_loss: 0.0612 - val_accuracy: 1.0000\n",
      "Epoch 80/200\n",
      "3/3 [==============================] - 0s 23ms/step - loss: 0.0406 - accuracy: 1.0000 - val_loss: 0.1564 - val_accuracy: 0.9000\n",
      "Epoch 81/200\n",
      "3/3 [==============================] - 0s 24ms/step - loss: 0.0734 - accuracy: 0.9625 - val_loss: 0.0981 - val_accuracy: 0.9500\n",
      "Epoch 82/200\n",
      "3/3 [==============================] - 0s 27ms/step - loss: 0.0341 - accuracy: 1.0000 - val_loss: 0.0483 - val_accuracy: 1.0000\n",
      "Epoch 83/200\n",
      "3/3 [==============================] - 0s 24ms/step - loss: 0.0459 - accuracy: 1.0000 - val_loss: 0.0851 - val_accuracy: 0.9500\n",
      "Epoch 84/200\n",
      "3/3 [==============================] - 0s 23ms/step - loss: 0.0354 - accuracy: 1.0000 - val_loss: 0.1148 - val_accuracy: 0.9500\n",
      "Epoch 85/200\n",
      "3/3 [==============================] - 0s 23ms/step - loss: 0.0364 - accuracy: 0.9875 - val_loss: 0.0911 - val_accuracy: 0.9500\n",
      "Epoch 86/200\n",
      "3/3 [==============================] - 0s 27ms/step - loss: 0.0327 - accuracy: 1.0000 - val_loss: 0.0832 - val_accuracy: 0.9500\n",
      "Epoch 87/200\n",
      "3/3 [==============================] - 0s 25ms/step - loss: 0.0341 - accuracy: 1.0000 - val_loss: 0.0474 - val_accuracy: 1.0000\n",
      "Epoch 88/200\n",
      "3/3 [==============================] - 0s 25ms/step - loss: 0.0339 - accuracy: 1.0000 - val_loss: 0.0793 - val_accuracy: 0.9500\n",
      "Epoch 89/200\n",
      "3/3 [==============================] - 0s 23ms/step - loss: 0.0309 - accuracy: 1.0000 - val_loss: 0.0706 - val_accuracy: 0.9500\n",
      "Epoch 90/200\n",
      "3/3 [==============================] - 0s 24ms/step - loss: 0.0311 - accuracy: 1.0000 - val_loss: 0.0929 - val_accuracy: 0.9500\n",
      "Epoch 91/200\n",
      "3/3 [==============================] - 0s 25ms/step - loss: 0.0302 - accuracy: 1.0000 - val_loss: 0.0570 - val_accuracy: 1.0000\n",
      "Epoch 92/200\n",
      "3/3 [==============================] - 0s 24ms/step - loss: 0.0293 - accuracy: 1.0000 - val_loss: 0.1215 - val_accuracy: 0.9500\n",
      "Epoch 93/200\n",
      "3/3 [==============================] - 0s 24ms/step - loss: 0.0300 - accuracy: 1.0000 - val_loss: 0.0450 - val_accuracy: 1.0000\n",
      "Epoch 94/200\n",
      "3/3 [==============================] - 0s 24ms/step - loss: 0.0426 - accuracy: 0.9875 - val_loss: 0.0618 - val_accuracy: 1.0000\n",
      "Epoch 95/200\n",
      "3/3 [==============================] - 0s 22ms/step - loss: 0.0293 - accuracy: 1.0000 - val_loss: 0.0770 - val_accuracy: 0.9500\n",
      "Epoch 96/200\n",
      "3/3 [==============================] - 0s 23ms/step - loss: 0.0341 - accuracy: 1.0000 - val_loss: 0.0539 - val_accuracy: 1.0000\n",
      "Epoch 97/200\n",
      "3/3 [==============================] - 0s 25ms/step - loss: 0.0285 - accuracy: 1.0000 - val_loss: 0.0431 - val_accuracy: 1.0000\n",
      "Epoch 98/200\n",
      "3/3 [==============================] - 0s 24ms/step - loss: 0.0273 - accuracy: 1.0000 - val_loss: 0.1021 - val_accuracy: 0.9500\n",
      "Epoch 99/200\n",
      "3/3 [==============================] - 0s 24ms/step - loss: 0.0290 - accuracy: 1.0000 - val_loss: 0.0571 - val_accuracy: 1.0000\n",
      "Epoch 100/200\n",
      "3/3 [==============================] - 0s 22ms/step - loss: 0.0264 - accuracy: 1.0000 - val_loss: 0.0773 - val_accuracy: 0.9500\n",
      "Epoch 101/200\n",
      "3/3 [==============================] - 0s 22ms/step - loss: 0.0357 - accuracy: 1.0000 - val_loss: 0.0474 - val_accuracy: 1.0000\n",
      "Epoch 102/200\n",
      "3/3 [==============================] - 0s 24ms/step - loss: 0.0262 - accuracy: 1.0000 - val_loss: 0.0558 - val_accuracy: 1.0000\n",
      "Epoch 103/200\n",
      "3/3 [==============================] - 0s 26ms/step - loss: 0.0269 - accuracy: 1.0000 - val_loss: 0.0468 - val_accuracy: 1.0000\n",
      "Epoch 104/200\n",
      "3/3 [==============================] - 0s 25ms/step - loss: 0.0257 - accuracy: 1.0000 - val_loss: 0.0516 - val_accuracy: 1.0000\n",
      "Epoch 105/200\n",
      "3/3 [==============================] - 0s 23ms/step - loss: 0.0254 - accuracy: 1.0000 - val_loss: 0.0606 - val_accuracy: 1.0000\n",
      "Epoch 106/200\n",
      "3/3 [==============================] - 0s 23ms/step - loss: 0.0244 - accuracy: 1.0000 - val_loss: 0.0761 - val_accuracy: 0.9500\n",
      "Epoch 107/200\n",
      "3/3 [==============================] - 0s 24ms/step - loss: 0.0298 - accuracy: 1.0000 - val_loss: 0.1041 - val_accuracy: 0.9500\n",
      "Epoch 108/200\n",
      "3/3 [==============================] - 0s 25ms/step - loss: 0.0286 - accuracy: 1.0000 - val_loss: 0.1029 - val_accuracy: 0.9500\n",
      "Epoch 109/200\n",
      "3/3 [==============================] - 0s 26ms/step - loss: 0.0305 - accuracy: 1.0000 - val_loss: 0.0787 - val_accuracy: 0.9500\n",
      "Epoch 110/200\n",
      "3/3 [==============================] - 0s 24ms/step - loss: 0.0247 - accuracy: 1.0000 - val_loss: 0.0388 - val_accuracy: 1.0000\n",
      "Epoch 111/200\n",
      "3/3 [==============================] - 0s 24ms/step - loss: 0.0257 - accuracy: 1.0000 - val_loss: 0.0386 - val_accuracy: 1.0000\n",
      "Epoch 112/200\n",
      "3/3 [==============================] - 0s 24ms/step - loss: 0.0264 - accuracy: 1.0000 - val_loss: 0.0383 - val_accuracy: 1.0000\n",
      "Epoch 113/200\n",
      "3/3 [==============================] - 0s 31ms/step - loss: 0.0227 - accuracy: 1.0000 - val_loss: 0.0836 - val_accuracy: 0.9500\n",
      "Epoch 114/200\n",
      "3/3 [==============================] - 0s 25ms/step - loss: 0.0256 - accuracy: 1.0000 - val_loss: 0.0726 - val_accuracy: 0.9500\n",
      "Epoch 115/200\n",
      "3/3 [==============================] - 0s 25ms/step - loss: 0.0264 - accuracy: 1.0000 - val_loss: 0.0711 - val_accuracy: 0.9500\n",
      "Epoch 116/200\n",
      "3/3 [==============================] - 0s 23ms/step - loss: 0.0230 - accuracy: 1.0000 - val_loss: 0.0464 - val_accuracy: 1.0000\n",
      "Epoch 117/200\n",
      "3/3 [==============================] - 0s 23ms/step - loss: 0.0217 - accuracy: 1.0000 - val_loss: 0.0495 - val_accuracy: 1.0000\n",
      "Epoch 118/200\n",
      "3/3 [==============================] - 0s 25ms/step - loss: 0.0228 - accuracy: 1.0000 - val_loss: 0.0481 - val_accuracy: 1.0000\n",
      "Epoch 119/200\n",
      "3/3 [==============================] - 0s 26ms/step - loss: 0.0208 - accuracy: 1.0000 - val_loss: 0.0802 - val_accuracy: 0.9500\n",
      "Epoch 120/200\n",
      "3/3 [==============================] - 0s 25ms/step - loss: 0.0307 - accuracy: 1.0000 - val_loss: 0.0874 - val_accuracy: 0.9500\n",
      "Epoch 121/200\n",
      "3/3 [==============================] - 0s 23ms/step - loss: 0.0207 - accuracy: 1.0000 - val_loss: 0.0410 - val_accuracy: 1.0000\n",
      "Epoch 122/200\n",
      "3/3 [==============================] - 0s 22ms/step - loss: 0.0212 - accuracy: 1.0000 - val_loss: 0.0380 - val_accuracy: 1.0000\n",
      "Epoch 123/200\n",
      "3/3 [==============================] - 0s 26ms/step - loss: 0.0201 - accuracy: 1.0000 - val_loss: 0.0666 - val_accuracy: 0.9500\n",
      "Epoch 124/200\n",
      "3/3 [==============================] - 0s 25ms/step - loss: 0.0209 - accuracy: 1.0000 - val_loss: 0.0452 - val_accuracy: 1.0000\n",
      "Epoch 125/200\n",
      "3/3 [==============================] - 0s 26ms/step - loss: 0.0215 - accuracy: 1.0000 - val_loss: 0.0546 - val_accuracy: 1.0000\n",
      "Epoch 126/200\n",
      "3/3 [==============================] - 0s 22ms/step - loss: 0.0196 - accuracy: 1.0000 - val_loss: 0.0510 - val_accuracy: 1.0000\n",
      "Epoch 127/200\n",
      "3/3 [==============================] - 0s 22ms/step - loss: 0.0188 - accuracy: 1.0000 - val_loss: 0.0430 - val_accuracy: 1.0000\n",
      "Epoch 128/200\n",
      "3/3 [==============================] - 0s 23ms/step - loss: 0.0186 - accuracy: 1.0000 - val_loss: 0.0814 - val_accuracy: 0.9500\n",
      "Epoch 129/200\n",
      "3/3 [==============================] - 0s 26ms/step - loss: 0.0203 - accuracy: 1.0000 - val_loss: 0.0300 - val_accuracy: 1.0000\n",
      "Epoch 130/200\n",
      "3/3 [==============================] - 0s 26ms/step - loss: 0.0264 - accuracy: 1.0000 - val_loss: 0.0415 - val_accuracy: 1.0000\n",
      "Epoch 131/200\n",
      "3/3 [==============================] - 0s 25ms/step - loss: 0.0230 - accuracy: 1.0000 - val_loss: 0.0807 - val_accuracy: 0.9500\n",
      "Epoch 132/200\n",
      "3/3 [==============================] - 0s 24ms/step - loss: 0.0186 - accuracy: 1.0000 - val_loss: 0.0304 - val_accuracy: 1.0000\n",
      "Epoch 133/200\n",
      "3/3 [==============================] - 0s 23ms/step - loss: 0.0198 - accuracy: 1.0000 - val_loss: 0.0498 - val_accuracy: 1.0000\n",
      "Epoch 134/200\n",
      "3/3 [==============================] - 0s 24ms/step - loss: 0.0175 - accuracy: 1.0000 - val_loss: 0.0559 - val_accuracy: 1.0000\n",
      "Epoch 135/200\n",
      "3/3 [==============================] - 0s 26ms/step - loss: 0.0171 - accuracy: 1.0000 - val_loss: 0.0489 - val_accuracy: 1.0000\n",
      "Epoch 136/200\n",
      "3/3 [==============================] - 0s 25ms/step - loss: 0.0175 - accuracy: 1.0000 - val_loss: 0.0494 - val_accuracy: 1.0000\n",
      "Epoch 137/200\n",
      "3/3 [==============================] - 0s 23ms/step - loss: 0.0179 - accuracy: 1.0000 - val_loss: 0.0273 - val_accuracy: 1.0000\n",
      "Epoch 138/200\n",
      "3/3 [==============================] - 0s 22ms/step - loss: 0.0217 - accuracy: 1.0000 - val_loss: 0.0491 - val_accuracy: 1.0000\n",
      "Epoch 139/200\n",
      "3/3 [==============================] - 0s 23ms/step - loss: 0.0176 - accuracy: 1.0000 - val_loss: 0.0510 - val_accuracy: 1.0000\n",
      "Epoch 140/200\n",
      "3/3 [==============================] - 0s 23ms/step - loss: 0.0179 - accuracy: 1.0000 - val_loss: 0.0264 - val_accuracy: 1.0000\n",
      "Epoch 141/200\n",
      "3/3 [==============================] - 0s 27ms/step - loss: 0.0335 - accuracy: 1.0000 - val_loss: 0.0380 - val_accuracy: 1.0000\n",
      "Epoch 142/200\n",
      "3/3 [==============================] - 0s 24ms/step - loss: 0.0167 - accuracy: 1.0000 - val_loss: 0.0593 - val_accuracy: 1.0000\n",
      "Epoch 143/200\n",
      "3/3 [==============================] - 0s 24ms/step - loss: 0.0163 - accuracy: 1.0000 - val_loss: 0.0656 - val_accuracy: 0.9500\n",
      "Epoch 144/200\n",
      "3/3 [==============================] - 0s 23ms/step - loss: 0.0172 - accuracy: 1.0000 - val_loss: 0.0255 - val_accuracy: 1.0000\n",
      "Epoch 145/200\n",
      "3/3 [==============================] - 0s 23ms/step - loss: 0.0205 - accuracy: 1.0000 - val_loss: 0.0531 - val_accuracy: 1.0000\n",
      "Epoch 146/200\n",
      "3/3 [==============================] - 0s 25ms/step - loss: 0.0163 - accuracy: 1.0000 - val_loss: 0.0806 - val_accuracy: 0.9500\n",
      "Epoch 147/200\n",
      "3/3 [==============================] - 0s 27ms/step - loss: 0.0183 - accuracy: 1.0000 - val_loss: 0.0449 - val_accuracy: 1.0000\n",
      "Epoch 148/200\n",
      "3/3 [==============================] - 0s 24ms/step - loss: 0.0157 - accuracy: 1.0000 - val_loss: 0.0912 - val_accuracy: 0.9500\n",
      "Epoch 149/200\n",
      "3/3 [==============================] - 0s 23ms/step - loss: 0.0199 - accuracy: 1.0000 - val_loss: 0.0624 - val_accuracy: 0.9500\n",
      "Epoch 150/200\n",
      "3/3 [==============================] - 0s 22ms/step - loss: 0.0148 - accuracy: 1.0000 - val_loss: 0.0395 - val_accuracy: 1.0000\n",
      "Epoch 151/200\n",
      "3/3 [==============================] - 0s 23ms/step - loss: 0.0153 - accuracy: 1.0000 - val_loss: 0.0408 - val_accuracy: 1.0000\n",
      "Epoch 152/200\n",
      "3/3 [==============================] - 0s 25ms/step - loss: 0.0143 - accuracy: 1.0000 - val_loss: 0.0638 - val_accuracy: 0.9500\n",
      "Epoch 153/200\n",
      "3/3 [==============================] - 0s 25ms/step - loss: 0.0163 - accuracy: 1.0000 - val_loss: 0.0407 - val_accuracy: 1.0000\n",
      "Epoch 154/200\n",
      "3/3 [==============================] - 0s 25ms/step - loss: 0.0139 - accuracy: 1.0000 - val_loss: 0.0431 - val_accuracy: 1.0000\n",
      "Epoch 155/200\n",
      "3/3 [==============================] - 0s 25ms/step - loss: 0.0137 - accuracy: 1.0000 - val_loss: 0.0476 - val_accuracy: 1.0000\n",
      "Epoch 156/200\n",
      "3/3 [==============================] - 0s 25ms/step - loss: 0.0155 - accuracy: 1.0000 - val_loss: 0.0231 - val_accuracy: 1.0000\n",
      "Epoch 157/200\n",
      "3/3 [==============================] - 0s 26ms/step - loss: 0.0177 - accuracy: 1.0000 - val_loss: 0.0532 - val_accuracy: 1.0000\n",
      "Epoch 158/200\n",
      "3/3 [==============================] - 0s 23ms/step - loss: 0.0141 - accuracy: 1.0000 - val_loss: 0.0350 - val_accuracy: 1.0000\n",
      "Epoch 159/200\n",
      "3/3 [==============================] - 0s 24ms/step - loss: 0.0153 - accuracy: 1.0000 - val_loss: 0.0562 - val_accuracy: 1.0000\n",
      "Epoch 160/200\n",
      "3/3 [==============================] - 0s 24ms/step - loss: 0.0137 - accuracy: 1.0000 - val_loss: 0.0280 - val_accuracy: 1.0000\n",
      "Epoch 161/200\n",
      "3/3 [==============================] - 0s 25ms/step - loss: 0.0149 - accuracy: 1.0000 - val_loss: 0.1062 - val_accuracy: 0.9500\n",
      "Epoch 162/200\n",
      "3/3 [==============================] - 0s 25ms/step - loss: 0.0186 - accuracy: 1.0000 - val_loss: 0.0593 - val_accuracy: 1.0000\n",
      "Epoch 163/200\n",
      "3/3 [==============================] - 0s 30ms/step - loss: 0.0139 - accuracy: 1.0000 - val_loss: 0.0734 - val_accuracy: 0.9500\n",
      "Epoch 164/200\n",
      "3/3 [==============================] - 0s 25ms/step - loss: 0.0146 - accuracy: 1.0000 - val_loss: 0.0342 - val_accuracy: 1.0000\n",
      "Epoch 165/200\n",
      "3/3 [==============================] - 0s 23ms/step - loss: 0.0135 - accuracy: 1.0000 - val_loss: 0.0524 - val_accuracy: 1.0000\n",
      "Epoch 166/200\n",
      "3/3 [==============================] - 0s 22ms/step - loss: 0.0130 - accuracy: 1.0000 - val_loss: 0.0344 - val_accuracy: 1.0000\n",
      "Epoch 167/200\n",
      "3/3 [==============================] - 0s 23ms/step - loss: 0.0125 - accuracy: 1.0000 - val_loss: 0.0452 - val_accuracy: 1.0000\n",
      "Epoch 168/200\n",
      "3/3 [==============================] - 0s 24ms/step - loss: 0.0127 - accuracy: 1.0000 - val_loss: 0.0366 - val_accuracy: 1.0000\n",
      "Epoch 169/200\n",
      "3/3 [==============================] - 0s 23ms/step - loss: 0.0120 - accuracy: 1.0000 - val_loss: 0.0509 - val_accuracy: 1.0000\n",
      "Epoch 170/200\n",
      "3/3 [==============================] - 0s 23ms/step - loss: 0.0136 - accuracy: 1.0000 - val_loss: 0.0343 - val_accuracy: 1.0000\n",
      "Epoch 171/200\n",
      "3/3 [==============================] - 0s 25ms/step - loss: 0.0124 - accuracy: 1.0000 - val_loss: 0.0586 - val_accuracy: 1.0000\n",
      "Epoch 172/200\n",
      "3/3 [==============================] - 0s 25ms/step - loss: 0.0120 - accuracy: 1.0000 - val_loss: 0.0393 - val_accuracy: 1.0000\n",
      "Epoch 173/200\n",
      "3/3 [==============================] - 0s 24ms/step - loss: 0.0117 - accuracy: 1.0000 - val_loss: 0.0415 - val_accuracy: 1.0000\n",
      "Epoch 174/200\n",
      "3/3 [==============================] - 0s 24ms/step - loss: 0.0127 - accuracy: 1.0000 - val_loss: 0.0541 - val_accuracy: 1.0000\n",
      "Epoch 175/200\n",
      "3/3 [==============================] - 0s 22ms/step - loss: 0.0118 - accuracy: 1.0000 - val_loss: 0.0408 - val_accuracy: 1.0000\n",
      "Epoch 176/200\n",
      "3/3 [==============================] - 0s 24ms/step - loss: 0.0119 - accuracy: 1.0000 - val_loss: 0.0503 - val_accuracy: 1.0000\n",
      "Epoch 177/200\n",
      "3/3 [==============================] - 0s 26ms/step - loss: 0.0118 - accuracy: 1.0000 - val_loss: 0.0494 - val_accuracy: 1.0000\n",
      "Epoch 178/200\n",
      "3/3 [==============================] - 0s 25ms/step - loss: 0.0117 - accuracy: 1.0000 - val_loss: 0.0468 - val_accuracy: 1.0000\n",
      "Epoch 179/200\n",
      "3/3 [==============================] - 0s 24ms/step - loss: 0.0110 - accuracy: 1.0000 - val_loss: 0.0380 - val_accuracy: 1.0000\n",
      "Epoch 180/200\n",
      "3/3 [==============================] - 0s 23ms/step - loss: 0.0125 - accuracy: 1.0000 - val_loss: 0.0734 - val_accuracy: 0.9500\n",
      "Epoch 181/200\n",
      "3/3 [==============================] - 0s 26ms/step - loss: 0.0145 - accuracy: 1.0000 - val_loss: 0.0434 - val_accuracy: 1.0000\n",
      "Epoch 182/200\n",
      "3/3 [==============================] - 0s 25ms/step - loss: 0.0112 - accuracy: 1.0000 - val_loss: 0.0601 - val_accuracy: 0.9500\n",
      "Epoch 183/200\n",
      "3/3 [==============================] - 0s 24ms/step - loss: 0.0132 - accuracy: 1.0000 - val_loss: 0.0703 - val_accuracy: 0.9500\n",
      "Epoch 184/200\n",
      "3/3 [==============================] - 0s 22ms/step - loss: 0.0149 - accuracy: 1.0000 - val_loss: 0.0522 - val_accuracy: 1.0000\n",
      "Epoch 185/200\n",
      "3/3 [==============================] - 0s 23ms/step - loss: 0.0109 - accuracy: 1.0000 - val_loss: 0.0380 - val_accuracy: 1.0000\n",
      "Epoch 186/200\n",
      "3/3 [==============================] - 0s 25ms/step - loss: 0.0106 - accuracy: 1.0000 - val_loss: 0.0348 - val_accuracy: 1.0000\n",
      "Epoch 187/200\n",
      "3/3 [==============================] - 0s 24ms/step - loss: 0.0103 - accuracy: 1.0000 - val_loss: 0.0401 - val_accuracy: 1.0000\n",
      "Epoch 188/200\n",
      "3/3 [==============================] - 0s 26ms/step - loss: 0.0109 - accuracy: 1.0000 - val_loss: 0.0340 - val_accuracy: 1.0000\n",
      "Epoch 189/200\n",
      "3/3 [==============================] - 0s 26ms/step - loss: 0.0102 - accuracy: 1.0000 - val_loss: 0.0395 - val_accuracy: 1.0000\n",
      "Epoch 190/200\n",
      "3/3 [==============================] - 0s 23ms/step - loss: 0.0105 - accuracy: 1.0000 - val_loss: 0.0588 - val_accuracy: 0.9500\n",
      "Epoch 191/200\n",
      "3/3 [==============================] - 0s 26ms/step - loss: 0.0106 - accuracy: 1.0000 - val_loss: 0.0274 - val_accuracy: 1.0000\n",
      "Epoch 192/200\n",
      "3/3 [==============================] - 0s 24ms/step - loss: 0.0114 - accuracy: 1.0000 - val_loss: 0.0284 - val_accuracy: 1.0000\n",
      "Epoch 193/200\n",
      "3/3 [==============================] - 0s 25ms/step - loss: 0.0114 - accuracy: 1.0000 - val_loss: 0.0798 - val_accuracy: 0.9500\n",
      "Epoch 194/200\n",
      "3/3 [==============================] - 0s 23ms/step - loss: 0.0126 - accuracy: 1.0000 - val_loss: 0.0560 - val_accuracy: 1.0000\n",
      "Epoch 195/200\n",
      "3/3 [==============================] - 0s 23ms/step - loss: 0.0100 - accuracy: 1.0000 - val_loss: 0.0310 - val_accuracy: 1.0000\n",
      "Epoch 196/200\n",
      "3/3 [==============================] - 0s 26ms/step - loss: 0.0100 - accuracy: 1.0000 - val_loss: 0.0274 - val_accuracy: 1.0000\n",
      "Epoch 197/200\n",
      "3/3 [==============================] - 0s 25ms/step - loss: 0.0101 - accuracy: 1.0000 - val_loss: 0.0509 - val_accuracy: 1.0000\n",
      "Epoch 198/200\n",
      "3/3 [==============================] - 0s 26ms/step - loss: 0.0101 - accuracy: 1.0000 - val_loss: 0.0212 - val_accuracy: 1.0000\n",
      "Epoch 199/200\n",
      "3/3 [==============================] - 0s 23ms/step - loss: 0.0106 - accuracy: 1.0000 - val_loss: 0.0418 - val_accuracy: 1.0000\n",
      "Epoch 200/200\n",
      "3/3 [==============================] - 0s 22ms/step - loss: 0.0096 - accuracy: 1.0000 - val_loss: 0.0578 - val_accuracy: 1.0000\n"
     ]
    }
   ],
   "source": [
    "H = model.fit(x_train, y_train, validation_data=(x_test, y_test), \n",
    "          epochs=max_epochs, batch_size=32)"
   ]
  },
  {
   "cell_type": "code",
   "execution_count": 83,
   "metadata": {},
   "outputs": [
    {
     "data": {
      "image/png": "[encoded data removed]",
      "text/plain": [
       "<Figure size 432x288 with 1 Axes>"
      ]
     },
     "metadata": {},
     "output_type": "display_data"
    }
   ],
   "source": [
    "N = np.arange(0, max_epochs)\n",
    "plt.style.use(\"ggplot\")\n",
    "plt.figure()\n",
    "plt.plot(N, H.history[\"loss\"], label=\"train_loss\")\n",
    "plt.plot(N, H.history[\"val_loss\"], label=\"val_loss\")\n",
    "#plt.plot(N, H.history[\"accuracy\"], label=\"train_acc\")\n",
    "#plt.plot(N, H.history[\"val_accuracy\"], label=\"val_acc\")\n",
    "plt.xlabel(\"Epoch #\")\n",
    "plt.legend()\n",
    "plt.show()"
   ]
  },
  {
   "cell_type": "markdown",
   "metadata": {},
   "source": [
    "<h3>7. Evaluate the Model</h3>"
   ]
  },
  {
   "cell_type": "code",
   "execution_count": 87,
   "metadata": {},
   "outputs": [
    {
     "name": "stdout",
     "output_type": "stream",
     "text": [
      "                     precision    recall  f1-score   support\n",
      "\n",
      "        daun_nangka       1.00      1.00      1.00         8\n",
      "daun_belimbingwuluh       1.00      1.00      1.00        12\n",
      "\n",
      "           accuracy                           1.00        20\n",
      "          macro avg       1.00      1.00      1.00        20\n",
      "       weighted avg       1.00      1.00      1.00        20\n",
      "\n"
     ]
    },
    {
     "name": "stderr",
     "output_type": "stream",
     "text": [
      "C:\\Users\\n1z4r\\AppData\\Local\\Temp/ipykernel_37796/954476436.py:3: DeprecationWarning: `np.int` is a deprecated alias for the builtin `int`. To silence this warning, use `int` by itself. Doing this will not modify any behavior and is safe. When replacing `np.int`, you may wish to use e.g. `np.int64` or `np.int32` to specify the precision. If you wish to review your current use, check the release note link for additional information.\n",
      "Deprecated in NumPy 1.20; for more details and guidance: https://numpy.org/devdocs/release/1.20.0-notes.html#deprecations\n",
      "  target = (predictions > 0.5).astype(np.int)\n"
     ]
    }
   ],
   "source": [
    "# menghitung nilai akurasi model terhadap data test\n",
    "predictions = model.predict(x_test, batch_size=32)\n",
    "target = (predictions > 0.5).astype(np.int)\n",
    "print(classification_report(y_test, target, target_names=label_list))"
   ]
  },
  {
   "cell_type": "code",
   "execution_count": 92,
   "metadata": {},
   "outputs": [
    {
     "name": "stdout",
     "output_type": "stream",
     "text": [
      "[[0.9966334]]\n"
     ]
    }
   ],
   "source": [
    "# uji model menggunakan image lain\n",
    "queryPath = imagePaths+'daun_nangka_tes.jpg'\n",
    "query = cv2.imread(queryPath)\n",
    "output = query.copy()\n",
    "query = cv2.resize(query, (32, 32))\n",
    "q = []\n",
    "q.append(query)\n",
    "q = np.array(q, dtype='float') / 255.0\n",
    "\n",
    "q_pred = model.predict(q)\n",
    "i = q_pred.argmax(axis=1)[0]\n",
    "print(q_pred)"
   ]
  },
  {
   "cell_type": "code",
   "execution_count": 93,
   "metadata": {},
   "outputs": [],
   "source": [
    "if q_pred<=0.5 :\n",
    "    target = \"Daun Belimbing Wuluh\"\n",
    "else :\n",
    "    target = \"Daun Nangka\"\n",
    "text = \"{}: {:.2f}%\".format(target, q_pred[0][i] * 100)\n",
    "cv2.putText(output, text, (10, 30), cv2.FONT_HERSHEY_SIMPLEX, 0.7, (0, 0, 255), 2)\n",
    " \n",
    "# menampilkan output image\n",
    "cv2.imshow('Output', output)\n",
    "cv2.waitKey() # image tidak akan diclose,sebelum user menekan sembarang tombol\n",
    "cv2.destroyWindow('Output') # image akan diclose"
   ]
  },
  {
   "cell_type": "code",
   "execution_count": null,
   "metadata": {},
   "outputs": [],
   "source": []
  }
 ],
 "metadata": {
  "kernelspec": {
   "display_name": "Python 3 (ipykernel)",
   "language": "python",
   "name": "python3"
  },
  "language_info": {
   "codemirror_mode": {
    "name": "ipython",
    "version": 3
   },
   "file_extension": ".py",
   "mimetype": "text/x-python",
   "name": "python",
   "nbconvert_exporter": "python",
   "pygments_lexer": "ipython3",
   "version": "3.9.4"
  }
 },
 "nbformat": 4,
 "nbformat_minor": 4
}
