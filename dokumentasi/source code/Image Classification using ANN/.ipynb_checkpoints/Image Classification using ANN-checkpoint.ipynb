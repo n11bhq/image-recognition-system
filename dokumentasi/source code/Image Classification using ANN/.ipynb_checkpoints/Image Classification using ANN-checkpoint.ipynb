{
 "cells": [
  {
   "cell_type": "markdown",
   "metadata": {},
   "source": [
    "<h3>1. Import module yang dibutuhkan</h3>"
   ]
  },
  {
   "cell_type": "code",
   "execution_count": 51,
   "metadata": {},
   "outputs": [],
   "source": [
    "from sklearn.model_selection import train_test_split\n",
    "from sklearn.preprocessing import LabelEncoder\n",
    "from sklearn.metrics import classification_report\n",
    "from tensorflow.keras.models import Sequential\n",
    "from tensorflow.keras.layers import Flatten, Dense\n",
    "from tensorflow.keras.optimizers import SGD\n",
    "import numpy as np\n",
    "import cv2\n",
    "import glob\n",
    "import matplotlib.pyplot as plt"
   ]
  },
  {
   "cell_type": "markdown",
   "metadata": {},
   "source": [
    "<h3>2. Load Dataset</h3>"
   ]
  },
  {
   "cell_type": "code",
   "execution_count": 52,
   "metadata": {},
   "outputs": [],
   "source": [
    "imagePaths = 'dataset\\\\daun\\\\'\n",
    "label_list = ['daun_nangka', 'daun_belimbingwuluh']\n",
    "data = []\n",
    "labels = []"
   ]
  },
  {
   "cell_type": "code",
   "execution_count": 53,
   "metadata": {},
   "outputs": [],
   "source": [
    "for label in label_list:\n",
    "    for imagePath in glob.glob(imagePaths+label+'\\\\*.jpg'):\n",
    "        #print(imagePath)\n",
    "        image = cv2.imread(imagePath)\n",
    "        image = cv2.resize(image, (32, 32))\n",
    "        data.append(image)\n",
    "        labels.append(label)"
   ]
  },
  {
   "cell_type": "code",
   "execution_count": 54,
   "metadata": {},
   "outputs": [
    {
     "data": {
      "text/plain": [
       "(100, 32, 32, 3)"
      ]
     },
     "execution_count": 54,
     "metadata": {},
     "output_type": "execute_result"
    }
   ],
   "source": [
    "np.array(data).shape"
   ]
  },
  {
   "cell_type": "markdown",
   "metadata": {},
   "source": [
    "<h3>3. Data Preprocessing</h3>"
   ]
  },
  {
   "cell_type": "code",
   "execution_count": 55,
   "metadata": {},
   "outputs": [],
   "source": [
    "# ubah type data dari list menjadi array\n",
    "# ubah nilai dari tiap pixel menjadi range [0..1]\n",
    "data = np.array(data, dtype='float') / 255.0\n",
    "labels = np.array(labels)"
   ]
  },
  {
   "cell_type": "code",
   "execution_count": 56,
   "metadata": {},
   "outputs": [
    {
     "name": "stdout",
     "output_type": "stream",
     "text": [
      "['daun_nangka' 'daun_nangka' 'daun_nangka' 'daun_nangka' 'daun_nangka'\n",
      " 'daun_nangka' 'daun_nangka' 'daun_nangka' 'daun_nangka' 'daun_nangka'\n",
      " 'daun_nangka' 'daun_nangka' 'daun_nangka' 'daun_nangka' 'daun_nangka'\n",
      " 'daun_nangka' 'daun_nangka' 'daun_nangka' 'daun_nangka' 'daun_nangka'\n",
      " 'daun_nangka' 'daun_nangka' 'daun_nangka' 'daun_nangka' 'daun_nangka'\n",
      " 'daun_nangka' 'daun_nangka' 'daun_nangka' 'daun_nangka' 'daun_nangka'\n",
      " 'daun_nangka' 'daun_nangka' 'daun_nangka' 'daun_nangka' 'daun_nangka'\n",
      " 'daun_nangka' 'daun_nangka' 'daun_nangka' 'daun_nangka' 'daun_nangka'\n",
      " 'daun_nangka' 'daun_nangka' 'daun_nangka' 'daun_nangka' 'daun_nangka'\n",
      " 'daun_nangka' 'daun_nangka' 'daun_nangka' 'daun_nangka' 'daun_nangka'\n",
      " 'daun_belimbingwuluh' 'daun_belimbingwuluh' 'daun_belimbingwuluh'\n",
      " 'daun_belimbingwuluh' 'daun_belimbingwuluh' 'daun_belimbingwuluh'\n",
      " 'daun_belimbingwuluh' 'daun_belimbingwuluh' 'daun_belimbingwuluh'\n",
      " 'daun_belimbingwuluh' 'daun_belimbingwuluh' 'daun_belimbingwuluh'\n",
      " 'daun_belimbingwuluh' 'daun_belimbingwuluh' 'daun_belimbingwuluh'\n",
      " 'daun_belimbingwuluh' 'daun_belimbingwuluh' 'daun_belimbingwuluh'\n",
      " 'daun_belimbingwuluh' 'daun_belimbingwuluh' 'daun_belimbingwuluh'\n",
      " 'daun_belimbingwuluh' 'daun_belimbingwuluh' 'daun_belimbingwuluh'\n",
      " 'daun_belimbingwuluh' 'daun_belimbingwuluh' 'daun_belimbingwuluh'\n",
      " 'daun_belimbingwuluh' 'daun_belimbingwuluh' 'daun_belimbingwuluh'\n",
      " 'daun_belimbingwuluh' 'daun_belimbingwuluh' 'daun_belimbingwuluh'\n",
      " 'daun_belimbingwuluh' 'daun_belimbingwuluh' 'daun_belimbingwuluh'\n",
      " 'daun_belimbingwuluh' 'daun_belimbingwuluh' 'daun_belimbingwuluh'\n",
      " 'daun_belimbingwuluh' 'daun_belimbingwuluh' 'daun_belimbingwuluh'\n",
      " 'daun_belimbingwuluh' 'daun_belimbingwuluh' 'daun_belimbingwuluh'\n",
      " 'daun_belimbingwuluh' 'daun_belimbingwuluh' 'daun_belimbingwuluh'\n",
      " 'daun_belimbingwuluh' 'daun_belimbingwuluh']\n"
     ]
    }
   ],
   "source": [
    "print(labels)"
   ]
  },
  {
   "cell_type": "code",
   "execution_count": 57,
   "metadata": {},
   "outputs": [
    {
     "name": "stdout",
     "output_type": "stream",
     "text": [
      "[1 1 1 1 1 1 1 1 1 1 1 1 1 1 1 1 1 1 1 1 1 1 1 1 1 1 1 1 1 1 1 1 1 1 1 1 1\n",
      " 1 1 1 1 1 1 1 1 1 1 1 1 1 0 0 0 0 0 0 0 0 0 0 0 0 0 0 0 0 0 0 0 0 0 0 0 0\n",
      " 0 0 0 0 0 0 0 0 0 0 0 0 0 0 0 0 0 0 0 0 0 0 0 0 0 0]\n"
     ]
    }
   ],
   "source": [
    "# ubah nilai dari labels menjadi binary\n",
    "lb = LabelEncoder()\n",
    "labels = lb.fit_transform(labels)\n",
    "print(labels)"
   ]
  },
  {
   "cell_type": "markdown",
   "metadata": {},
   "source": [
    "<h3>4. Split Dataset</h3>"
   ]
  },
  {
   "cell_type": "code",
   "execution_count": 58,
   "metadata": {},
   "outputs": [],
   "source": [
    "x_train, x_test, y_train, y_test = train_test_split(data, labels, test_size=0.2, random_state=42)"
   ]
  },
  {
   "cell_type": "code",
   "execution_count": 59,
   "metadata": {},
   "outputs": [
    {
     "name": "stdout",
     "output_type": "stream",
     "text": [
      "Ukuran data train = (80, 32, 32, 3)\n",
      "Ukuran data test = (20, 32, 32, 3)\n"
     ]
    }
   ],
   "source": [
    "print('Ukuran data train =', x_train.shape)\n",
    "print('Ukuran data test =', x_test.shape)"
   ]
  },
  {
   "cell_type": "markdown",
   "metadata": {},
   "source": [
    "<h3>5. Build ANN Architecture</h3>"
   ]
  },
  {
   "cell_type": "code",
   "execution_count": 60,
   "metadata": {},
   "outputs": [],
   "source": [
    "model = Sequential()\n",
    "model.add(Flatten(input_shape=(32,32,3)))\n",
    "model.add(Dense(1024, activation=\"relu\"))\n",
    "model.add(Dense(1024, activation=\"relu\"))\n",
    "model.add(Dense(1, activation=\"sigmoid\"))"
   ]
  },
  {
   "cell_type": "code",
   "execution_count": 61,
   "metadata": {},
   "outputs": [
    {
     "name": "stdout",
     "output_type": "stream",
     "text": [
      "Model: \"sequential_2\"\n",
      "_________________________________________________________________\n",
      " Layer (type)                Output Shape              Param #   \n",
      "=================================================================\n",
      " flatten_2 (Flatten)         (None, 3072)              0         \n",
      "                                                                 \n",
      " dense_6 (Dense)             (None, 1024)              3146752   \n",
      "                                                                 \n",
      " dense_7 (Dense)             (None, 1024)              1049600   \n",
      "                                                                 \n",
      " dense_8 (Dense)             (None, 1)                 1025      \n",
      "                                                                 \n",
      "=================================================================\n",
      "Total params: 4,197,377\n",
      "Trainable params: 4,197,377\n",
      "Non-trainable params: 0\n",
      "_________________________________________________________________\n"
     ]
    }
   ],
   "source": [
    "model.summary()"
   ]
  },
  {
   "cell_type": "code",
   "execution_count": 64,
   "metadata": {},
   "outputs": [],
   "source": [
    "# tentukan hyperparameter\n",
    "lr = 0.01\n",
    "max_epochs = 200\n",
    "opt_funct = SGD(learning_rate=lr)"
   ]
  },
  {
   "cell_type": "code",
   "execution_count": 65,
   "metadata": {},
   "outputs": [],
   "source": [
    "# compile arsitektur yang telah dibuat\n",
    "model.compile(loss = 'binary_crossentropy', \n",
    "              optimizer = opt_funct, \n",
    "              metrics = ['accuracy'])"
   ]
  },
  {
   "cell_type": "markdown",
   "metadata": {},
   "source": [
    "<h3>6. Train Model</h3>"
   ]
  },
  {
   "cell_type": "code",
   "execution_count": 66,
   "metadata": {},
   "outputs": [
    {
     "name": "stdout",
     "output_type": "stream",
     "text": [
      "Epoch 1/200\n",
      "3/3 [==============================] - 0s 91ms/step - loss: 0.6793 - accuracy: 0.5125 - val_loss: 2.5313 - val_accuracy: 0.4000\n",
      "Epoch 2/200\n",
      "3/3 [==============================] - 0s 22ms/step - loss: 1.4713 - accuracy: 0.5000 - val_loss: 0.8966 - val_accuracy: 0.6000\n",
      "Epoch 3/200\n",
      "3/3 [==============================] - 0s 22ms/step - loss: 1.3707 - accuracy: 0.4250 - val_loss: 0.4563 - val_accuracy: 0.9500\n",
      "Epoch 4/200\n",
      "3/3 [==============================] - 0s 20ms/step - loss: 0.4356 - accuracy: 0.9000 - val_loss: 0.4254 - val_accuracy: 0.8500\n",
      "Epoch 5/200\n",
      "3/3 [==============================] - 0s 21ms/step - loss: 0.3641 - accuracy: 0.9500 - val_loss: 0.3593 - val_accuracy: 0.9000\n",
      "Epoch 6/200\n",
      "3/3 [==============================] - 0s 21ms/step - loss: 0.3846 - accuracy: 0.8375 - val_loss: 0.9117 - val_accuracy: 0.4000\n",
      "Epoch 7/200\n",
      "3/3 [==============================] - 0s 21ms/step - loss: 0.5046 - accuracy: 0.6625 - val_loss: 0.4582 - val_accuracy: 0.7500\n",
      "Epoch 8/200\n",
      "3/3 [==============================] - 0s 22ms/step - loss: 0.3712 - accuracy: 0.8750 - val_loss: 0.6394 - val_accuracy: 0.6000\n",
      "Epoch 9/200\n",
      "3/3 [==============================] - 0s 21ms/step - loss: 0.7435 - accuracy: 0.6000 - val_loss: 0.2836 - val_accuracy: 1.0000\n",
      "Epoch 10/200\n",
      "3/3 [==============================] - 0s 21ms/step - loss: 0.3464 - accuracy: 0.9000 - val_loss: 0.4022 - val_accuracy: 0.8500\n",
      "Epoch 11/200\n",
      "3/3 [==============================] - 0s 24ms/step - loss: 0.2683 - accuracy: 0.9250 - val_loss: 0.4384 - val_accuracy: 0.7500\n",
      "Epoch 12/200\n",
      "3/3 [==============================] - 0s 25ms/step - loss: 0.3027 - accuracy: 0.9375 - val_loss: 0.2534 - val_accuracy: 0.9000\n",
      "Epoch 13/200\n",
      "3/3 [==============================] - 0s 24ms/step - loss: 0.2259 - accuracy: 0.9500 - val_loss: 0.2182 - val_accuracy: 1.0000\n",
      "Epoch 14/200\n",
      "3/3 [==============================] - 0s 22ms/step - loss: 0.2979 - accuracy: 0.8875 - val_loss: 0.6263 - val_accuracy: 0.6500\n",
      "Epoch 15/200\n",
      "3/3 [==============================] - 0s 21ms/step - loss: 0.4921 - accuracy: 0.7875 - val_loss: 0.3596 - val_accuracy: 0.7500\n",
      "Epoch 16/200\n",
      "3/3 [==============================] - 0s 21ms/step - loss: 0.3306 - accuracy: 0.8250 - val_loss: 0.1982 - val_accuracy: 1.0000\n",
      "Epoch 17/200\n",
      "3/3 [==============================] - 0s 21ms/step - loss: 0.1846 - accuracy: 0.9875 - val_loss: 0.1787 - val_accuracy: 1.0000\n",
      "Epoch 18/200\n",
      "3/3 [==============================] - 0s 24ms/step - loss: 0.1777 - accuracy: 0.9625 - val_loss: 0.3509 - val_accuracy: 0.8500\n",
      "Epoch 19/200\n",
      "3/3 [==============================] - 0s 24ms/step - loss: 0.1800 - accuracy: 0.9375 - val_loss: 0.2551 - val_accuracy: 0.8500\n",
      "Epoch 20/200\n",
      "3/3 [==============================] - 0s 23ms/step - loss: 0.1669 - accuracy: 0.9375 - val_loss: 0.3197 - val_accuracy: 0.8500\n",
      "Epoch 21/200\n",
      "3/3 [==============================] - 0s 21ms/step - loss: 0.5063 - accuracy: 0.7125 - val_loss: 0.2252 - val_accuracy: 0.8500\n",
      "Epoch 22/200\n",
      "3/3 [==============================] - 0s 21ms/step - loss: 0.1631 - accuracy: 0.9750 - val_loss: 0.2859 - val_accuracy: 0.8500\n",
      "Epoch 23/200\n",
      "3/3 [==============================] - 0s 22ms/step - loss: 0.1441 - accuracy: 0.9750 - val_loss: 0.1502 - val_accuracy: 1.0000\n",
      "Epoch 24/200\n",
      "3/3 [==============================] - 0s 23ms/step - loss: 0.1287 - accuracy: 1.0000 - val_loss: 0.2309 - val_accuracy: 0.8500\n",
      "Epoch 25/200\n",
      "3/3 [==============================] - 0s 23ms/step - loss: 0.1840 - accuracy: 0.9500 - val_loss: 0.1408 - val_accuracy: 0.9500\n",
      "Epoch 26/200\n",
      "3/3 [==============================] - 0s 22ms/step - loss: 0.1222 - accuracy: 0.9875 - val_loss: 0.1513 - val_accuracy: 0.9500\n",
      "Epoch 27/200\n",
      "3/3 [==============================] - 0s 21ms/step - loss: 0.1192 - accuracy: 0.9750 - val_loss: 0.1530 - val_accuracy: 1.0000\n",
      "Epoch 28/200\n",
      "3/3 [==============================] - 0s 21ms/step - loss: 0.1544 - accuracy: 0.9750 - val_loss: 0.1722 - val_accuracy: 0.9000\n",
      "Epoch 29/200\n",
      "3/3 [==============================] - 0s 23ms/step - loss: 0.1082 - accuracy: 0.9750 - val_loss: 0.1437 - val_accuracy: 0.9500\n",
      "Epoch 30/200\n",
      "3/3 [==============================] - 0s 23ms/step - loss: 0.1251 - accuracy: 0.9625 - val_loss: 0.2062 - val_accuracy: 0.8500\n",
      "Epoch 31/200\n",
      "3/3 [==============================] - 0s 23ms/step - loss: 0.1241 - accuracy: 0.9625 - val_loss: 0.1325 - val_accuracy: 0.9500\n",
      "Epoch 32/200\n",
      "3/3 [==============================] - 0s 21ms/step - loss: 0.0981 - accuracy: 0.9750 - val_loss: 0.1536 - val_accuracy: 0.9000\n",
      "Epoch 33/200\n",
      "3/3 [==============================] - 0s 21ms/step - loss: 0.0938 - accuracy: 0.9875 - val_loss: 0.1164 - val_accuracy: 1.0000\n",
      "Epoch 34/200\n",
      "3/3 [==============================] - 0s 22ms/step - loss: 0.1136 - accuracy: 0.9750 - val_loss: 0.1490 - val_accuracy: 0.9000\n",
      "Epoch 35/200\n",
      "3/3 [==============================] - 0s 23ms/step - loss: 0.1205 - accuracy: 0.9500 - val_loss: 0.1143 - val_accuracy: 1.0000\n",
      "Epoch 36/200\n",
      "3/3 [==============================] - 0s 24ms/step - loss: 0.1746 - accuracy: 0.9375 - val_loss: 0.1044 - val_accuracy: 1.0000\n",
      "Epoch 37/200\n",
      "3/3 [==============================] - 0s 22ms/step - loss: 0.0824 - accuracy: 0.9875 - val_loss: 0.1059 - val_accuracy: 0.9500\n",
      "Epoch 38/200\n",
      "3/3 [==============================] - 0s 22ms/step - loss: 0.1119 - accuracy: 0.9625 - val_loss: 0.1187 - val_accuracy: 0.9500\n",
      "Epoch 39/200\n",
      "3/3 [==============================] - 0s 22ms/step - loss: 0.0776 - accuracy: 0.9875 - val_loss: 0.0912 - val_accuracy: 1.0000\n",
      "Epoch 40/200\n",
      "3/3 [==============================] - 0s 21ms/step - loss: 0.0964 - accuracy: 0.9750 - val_loss: 0.0958 - val_accuracy: 1.0000\n",
      "Epoch 41/200\n",
      "3/3 [==============================] - 0s 25ms/step - loss: 0.0746 - accuracy: 0.9875 - val_loss: 0.0910 - val_accuracy: 1.0000\n",
      "Epoch 42/200\n",
      "3/3 [==============================] - 0s 24ms/step - loss: 0.0913 - accuracy: 0.9625 - val_loss: 0.2489 - val_accuracy: 0.8500\n",
      "Epoch 43/200\n",
      "3/3 [==============================] - 0s 22ms/step - loss: 0.1215 - accuracy: 0.9500 - val_loss: 0.1722 - val_accuracy: 0.9500\n",
      "Epoch 44/200\n",
      "3/3 [==============================] - 0s 21ms/step - loss: 0.1725 - accuracy: 0.9250 - val_loss: 0.0846 - val_accuracy: 1.0000\n",
      "Epoch 45/200\n",
      "3/3 [==============================] - 0s 21ms/step - loss: 0.0722 - accuracy: 0.9875 - val_loss: 0.1528 - val_accuracy: 0.9000\n",
      "Epoch 46/200\n",
      "3/3 [==============================] - 0s 21ms/step - loss: 0.0703 - accuracy: 0.9875 - val_loss: 0.1186 - val_accuracy: 0.9500\n",
      "Epoch 47/200\n",
      "3/3 [==============================] - 0s 23ms/step - loss: 0.0617 - accuracy: 0.9875 - val_loss: 0.0817 - val_accuracy: 1.0000\n",
      "Epoch 48/200\n",
      "3/3 [==============================] - 0s 25ms/step - loss: 0.1146 - accuracy: 0.9500 - val_loss: 0.0788 - val_accuracy: 1.0000\n",
      "Epoch 49/200\n",
      "3/3 [==============================] - 0s 22ms/step - loss: 0.0961 - accuracy: 0.9750 - val_loss: 0.1785 - val_accuracy: 0.9000\n",
      "Epoch 50/200\n",
      "3/3 [==============================] - 0s 21ms/step - loss: 0.0700 - accuracy: 0.9875 - val_loss: 0.1422 - val_accuracy: 0.9000\n",
      "Epoch 51/200\n",
      "3/3 [==============================] - 0s 22ms/step - loss: 0.0615 - accuracy: 1.0000 - val_loss: 0.1193 - val_accuracy: 0.9500\n",
      "Epoch 52/200\n",
      "3/3 [==============================] - 0s 24ms/step - loss: 0.0602 - accuracy: 0.9875 - val_loss: 0.1647 - val_accuracy: 0.9000\n",
      "Epoch 53/200\n",
      "3/3 [==============================] - 0s 24ms/step - loss: 0.1172 - accuracy: 0.9625 - val_loss: 0.1827 - val_accuracy: 0.9000\n",
      "Epoch 54/200\n",
      "3/3 [==============================] - 0s 25ms/step - loss: 0.0626 - accuracy: 1.0000 - val_loss: 0.0659 - val_accuracy: 1.0000\n",
      "Epoch 55/200\n",
      "3/3 [==============================] - 0s 24ms/step - loss: 0.0967 - accuracy: 0.9500 - val_loss: 0.1821 - val_accuracy: 0.9000\n",
      "Epoch 56/200\n",
      "3/3 [==============================] - 0s 21ms/step - loss: 0.0628 - accuracy: 0.9875 - val_loss: 0.1602 - val_accuracy: 0.9000\n",
      "Epoch 57/200\n",
      "3/3 [==============================] - 0s 22ms/step - loss: 0.0579 - accuracy: 0.9875 - val_loss: 0.0863 - val_accuracy: 0.9500\n",
      "Epoch 58/200\n",
      "3/3 [==============================] - 0s 24ms/step - loss: 0.0612 - accuracy: 0.9875 - val_loss: 0.0654 - val_accuracy: 1.0000\n",
      "Epoch 59/200\n",
      "3/3 [==============================] - 0s 25ms/step - loss: 0.0623 - accuracy: 0.9875 - val_loss: 0.0811 - val_accuracy: 1.0000\n",
      "Epoch 60/200\n",
      "3/3 [==============================] - 0s 23ms/step - loss: 0.0795 - accuracy: 0.9750 - val_loss: 0.4464 - val_accuracy: 0.8500\n",
      "Epoch 61/200\n",
      "3/3 [==============================] - 0s 23ms/step - loss: 0.4247 - accuracy: 0.7500 - val_loss: 0.0920 - val_accuracy: 0.9500\n",
      "Epoch 62/200\n",
      "3/3 [==============================] - 0s 25ms/step - loss: 0.0601 - accuracy: 0.9875 - val_loss: 0.2085 - val_accuracy: 0.8500\n",
      "Epoch 63/200\n",
      "3/3 [==============================] - 0s 21ms/step - loss: 0.1032 - accuracy: 0.9500 - val_loss: 0.0986 - val_accuracy: 0.9500\n",
      "Epoch 64/200\n",
      "3/3 [==============================] - 0s 22ms/step - loss: 0.0478 - accuracy: 1.0000 - val_loss: 0.0782 - val_accuracy: 1.0000\n",
      "Epoch 65/200\n",
      "3/3 [==============================] - 0s 22ms/step - loss: 0.0569 - accuracy: 1.0000 - val_loss: 0.0908 - val_accuracy: 0.9500\n",
      "Epoch 66/200\n",
      "3/3 [==============================] - 0s 22ms/step - loss: 0.0433 - accuracy: 1.0000 - val_loss: 0.0579 - val_accuracy: 1.0000\n",
      "Epoch 67/200\n",
      "3/3 [==============================] - 0s 22ms/step - loss: 0.0431 - accuracy: 1.0000 - val_loss: 0.0692 - val_accuracy: 1.0000\n",
      "Epoch 68/200\n",
      "3/3 [==============================] - 0s 21ms/step - loss: 0.0429 - accuracy: 1.0000 - val_loss: 0.1026 - val_accuracy: 0.9500\n",
      "Epoch 69/200\n",
      "3/3 [==============================] - 0s 21ms/step - loss: 0.0425 - accuracy: 1.0000 - val_loss: 0.0638 - val_accuracy: 1.0000\n",
      "Epoch 70/200\n",
      "3/3 [==============================] - 0s 21ms/step - loss: 0.0425 - accuracy: 1.0000 - val_loss: 0.0531 - val_accuracy: 1.0000\n",
      "Epoch 71/200\n",
      "3/3 [==============================] - 0s 21ms/step - loss: 0.0384 - accuracy: 1.0000 - val_loss: 0.1387 - val_accuracy: 0.9000\n",
      "Epoch 72/200\n",
      "3/3 [==============================] - 0s 23ms/step - loss: 0.0577 - accuracy: 0.9750 - val_loss: 0.1054 - val_accuracy: 0.9500\n",
      "Epoch 73/200\n",
      "3/3 [==============================] - 0s 23ms/step - loss: 0.0370 - accuracy: 0.9875 - val_loss: 0.0508 - val_accuracy: 1.0000\n",
      "Epoch 74/200\n",
      "3/3 [==============================] - 0s 23ms/step - loss: 0.0564 - accuracy: 0.9750 - val_loss: 0.0631 - val_accuracy: 1.0000\n",
      "Epoch 75/200\n",
      "3/3 [==============================] - 0s 22ms/step - loss: 0.0355 - accuracy: 1.0000 - val_loss: 0.0912 - val_accuracy: 0.9500\n",
      "Epoch 76/200\n",
      "3/3 [==============================] - 0s 21ms/step - loss: 0.0438 - accuracy: 1.0000 - val_loss: 0.0697 - val_accuracy: 1.0000\n",
      "Epoch 77/200\n",
      "3/3 [==============================] - 0s 22ms/step - loss: 0.0358 - accuracy: 1.0000 - val_loss: 0.0522 - val_accuracy: 1.0000\n",
      "Epoch 78/200\n",
      "3/3 [==============================] - 0s 25ms/step - loss: 0.0385 - accuracy: 1.0000 - val_loss: 0.0471 - val_accuracy: 1.0000\n",
      "Epoch 79/200\n",
      "3/3 [==============================] - 0s 23ms/step - loss: 0.0383 - accuracy: 1.0000 - val_loss: 0.0656 - val_accuracy: 1.0000\n",
      "Epoch 80/200\n",
      "3/3 [==============================] - 0s 23ms/step - loss: 0.0328 - accuracy: 1.0000 - val_loss: 0.0632 - val_accuracy: 1.0000\n",
      "Epoch 81/200\n",
      "3/3 [==============================] - 0s 21ms/step - loss: 0.0379 - accuracy: 1.0000 - val_loss: 0.0467 - val_accuracy: 1.0000\n",
      "Epoch 82/200\n",
      "3/3 [==============================] - 0s 21ms/step - loss: 0.0373 - accuracy: 0.9875 - val_loss: 0.0783 - val_accuracy: 0.9500\n",
      "Epoch 83/200\n",
      "3/3 [==============================] - 0s 23ms/step - loss: 0.0314 - accuracy: 1.0000 - val_loss: 0.0588 - val_accuracy: 1.0000\n",
      "Epoch 84/200\n",
      "3/3 [==============================] - 0s 24ms/step - loss: 0.0325 - accuracy: 1.0000 - val_loss: 0.1819 - val_accuracy: 0.9000\n",
      "Epoch 85/200\n",
      "3/3 [==============================] - 0s 23ms/step - loss: 0.0456 - accuracy: 0.9875 - val_loss: 0.0680 - val_accuracy: 1.0000\n",
      "Epoch 86/200\n",
      "3/3 [==============================] - 0s 23ms/step - loss: 0.0307 - accuracy: 1.0000 - val_loss: 0.0971 - val_accuracy: 0.9500\n",
      "Epoch 87/200\n",
      "3/3 [==============================] - 0s 22ms/step - loss: 0.0365 - accuracy: 1.0000 - val_loss: 0.0424 - val_accuracy: 1.0000\n",
      "Epoch 88/200\n",
      "3/3 [==============================] - 0s 22ms/step - loss: 0.0329 - accuracy: 1.0000 - val_loss: 0.0652 - val_accuracy: 1.0000\n",
      "Epoch 89/200\n",
      "3/3 [==============================] - 0s 22ms/step - loss: 0.0334 - accuracy: 1.0000 - val_loss: 0.0717 - val_accuracy: 1.0000\n",
      "Epoch 90/200\n",
      "3/3 [==============================] - 0s 25ms/step - loss: 0.0279 - accuracy: 1.0000 - val_loss: 0.0427 - val_accuracy: 1.0000\n",
      "Epoch 91/200\n",
      "3/3 [==============================] - 0s 23ms/step - loss: 0.0374 - accuracy: 1.0000 - val_loss: 0.0656 - val_accuracy: 1.0000\n",
      "Epoch 92/200\n",
      "3/3 [==============================] - 0s 23ms/step - loss: 0.0317 - accuracy: 1.0000 - val_loss: 0.0764 - val_accuracy: 0.9500\n",
      "Epoch 93/200\n",
      "3/3 [==============================] - 0s 21ms/step - loss: 0.0278 - accuracy: 1.0000 - val_loss: 0.0880 - val_accuracy: 0.9500\n",
      "Epoch 94/200\n",
      "3/3 [==============================] - 0s 22ms/step - loss: 0.0279 - accuracy: 1.0000 - val_loss: 0.0585 - val_accuracy: 1.0000\n",
      "Epoch 95/200\n",
      "3/3 [==============================] - 0s 23ms/step - loss: 0.0272 - accuracy: 1.0000 - val_loss: 0.0657 - val_accuracy: 1.0000\n",
      "Epoch 96/200\n",
      "3/3 [==============================] - 0s 23ms/step - loss: 0.0271 - accuracy: 1.0000 - val_loss: 0.1176 - val_accuracy: 0.9000\n",
      "Epoch 97/200\n",
      "3/3 [==============================] - 0s 24ms/step - loss: 0.0285 - accuracy: 1.0000 - val_loss: 0.0600 - val_accuracy: 1.0000\n",
      "Epoch 98/200\n",
      "3/3 [==============================] - 0s 21ms/step - loss: 0.0257 - accuracy: 1.0000 - val_loss: 0.1059 - val_accuracy: 0.9500\n",
      "Epoch 99/200\n",
      "3/3 [==============================] - 0s 24ms/step - loss: 0.0267 - accuracy: 1.0000 - val_loss: 0.0400 - val_accuracy: 1.0000\n",
      "Epoch 100/200\n",
      "3/3 [==============================] - 0s 23ms/step - loss: 0.0286 - accuracy: 1.0000 - val_loss: 0.0416 - val_accuracy: 1.0000\n",
      "Epoch 101/200\n",
      "3/3 [==============================] - 0s 24ms/step - loss: 0.0365 - accuracy: 1.0000 - val_loss: 0.0567 - val_accuracy: 1.0000\n",
      "Epoch 102/200\n",
      "3/3 [==============================] - 0s 22ms/step - loss: 0.0240 - accuracy: 1.0000 - val_loss: 0.0928 - val_accuracy: 0.9500\n",
      "Epoch 103/200\n",
      "3/3 [==============================] - 0s 22ms/step - loss: 0.0259 - accuracy: 1.0000 - val_loss: 0.0379 - val_accuracy: 1.0000\n",
      "Epoch 104/200\n",
      "3/3 [==============================] - 0s 21ms/step - loss: 0.0271 - accuracy: 1.0000 - val_loss: 0.0466 - val_accuracy: 1.0000\n",
      "Epoch 105/200\n",
      "3/3 [==============================] - 0s 22ms/step - loss: 0.0246 - accuracy: 1.0000 - val_loss: 0.0459 - val_accuracy: 1.0000\n",
      "Epoch 106/200\n",
      "3/3 [==============================] - 0s 23ms/step - loss: 0.0238 - accuracy: 1.0000 - val_loss: 0.0441 - val_accuracy: 1.0000\n",
      "Epoch 107/200\n",
      "3/3 [==============================] - 0s 23ms/step - loss: 0.0247 - accuracy: 1.0000 - val_loss: 0.0531 - val_accuracy: 1.0000\n",
      "Epoch 108/200\n",
      "3/3 [==============================] - 0s 23ms/step - loss: 0.0231 - accuracy: 1.0000 - val_loss: 0.1001 - val_accuracy: 0.9500\n",
      "Epoch 109/200\n",
      "3/3 [==============================] - 0s 23ms/step - loss: 0.0317 - accuracy: 1.0000 - val_loss: 0.0983 - val_accuracy: 0.9500\n",
      "Epoch 110/200\n",
      "3/3 [==============================] - 0s 22ms/step - loss: 0.0241 - accuracy: 1.0000 - val_loss: 0.0584 - val_accuracy: 1.0000\n",
      "Epoch 111/200\n",
      "3/3 [==============================] - 0s 21ms/step - loss: 0.0209 - accuracy: 1.0000 - val_loss: 0.0464 - val_accuracy: 1.0000\n",
      "Epoch 112/200\n",
      "3/3 [==============================] - 0s 21ms/step - loss: 0.0208 - accuracy: 1.0000 - val_loss: 0.0729 - val_accuracy: 0.9500\n",
      "Epoch 113/200\n",
      "3/3 [==============================] - 0s 25ms/step - loss: 0.0235 - accuracy: 1.0000 - val_loss: 0.0624 - val_accuracy: 1.0000\n",
      "Epoch 114/200\n",
      "3/3 [==============================] - 0s 23ms/step - loss: 0.0214 - accuracy: 1.0000 - val_loss: 0.0330 - val_accuracy: 1.0000\n",
      "Epoch 115/200\n",
      "3/3 [==============================] - 0s 22ms/step - loss: 0.0217 - accuracy: 1.0000 - val_loss: 0.0848 - val_accuracy: 0.9500\n",
      "Epoch 116/200\n",
      "3/3 [==============================] - 0s 21ms/step - loss: 0.0209 - accuracy: 1.0000 - val_loss: 0.0331 - val_accuracy: 1.0000\n",
      "Epoch 117/200\n",
      "3/3 [==============================] - 0s 22ms/step - loss: 0.0219 - accuracy: 1.0000 - val_loss: 0.0593 - val_accuracy: 1.0000\n",
      "Epoch 118/200\n",
      "3/3 [==============================] - 0s 21ms/step - loss: 0.0204 - accuracy: 1.0000 - val_loss: 0.0524 - val_accuracy: 1.0000\n",
      "Epoch 119/200\n",
      "3/3 [==============================] - 0s 27ms/step - loss: 0.0191 - accuracy: 1.0000 - val_loss: 0.0546 - val_accuracy: 1.0000\n",
      "Epoch 120/200\n",
      "3/3 [==============================] - 0s 22ms/step - loss: 0.0238 - accuracy: 1.0000 - val_loss: 0.0717 - val_accuracy: 0.9500\n",
      "Epoch 121/200\n",
      "3/3 [==============================] - 0s 21ms/step - loss: 0.0193 - accuracy: 1.0000 - val_loss: 0.0443 - val_accuracy: 1.0000\n",
      "Epoch 122/200\n",
      "3/3 [==============================] - 0s 21ms/step - loss: 0.0188 - accuracy: 1.0000 - val_loss: 0.0662 - val_accuracy: 1.0000\n",
      "Epoch 123/200\n",
      "3/3 [==============================] - 0s 20ms/step - loss: 0.0214 - accuracy: 1.0000 - val_loss: 0.0648 - val_accuracy: 1.0000\n",
      "Epoch 124/200\n",
      "3/3 [==============================] - 0s 21ms/step - loss: 0.0184 - accuracy: 1.0000 - val_loss: 0.0567 - val_accuracy: 1.0000\n",
      "Epoch 125/200\n",
      "3/3 [==============================] - 0s 20ms/step - loss: 0.0178 - accuracy: 1.0000 - val_loss: 0.0457 - val_accuracy: 1.0000\n",
      "Epoch 126/200\n",
      "3/3 [==============================] - 0s 21ms/step - loss: 0.0204 - accuracy: 1.0000 - val_loss: 0.0662 - val_accuracy: 1.0000\n",
      "Epoch 127/200\n",
      "3/3 [==============================] - 0s 22ms/step - loss: 0.0185 - accuracy: 1.0000 - val_loss: 0.0407 - val_accuracy: 1.0000\n",
      "Epoch 128/200\n",
      "3/3 [==============================] - 0s 24ms/step - loss: 0.0190 - accuracy: 1.0000 - val_loss: 0.0339 - val_accuracy: 1.0000\n",
      "Epoch 129/200\n",
      "3/3 [==============================] - 0s 24ms/step - loss: 0.0202 - accuracy: 1.0000 - val_loss: 0.0803 - val_accuracy: 0.9500\n",
      "Epoch 130/200\n",
      "3/3 [==============================] - 0s 23ms/step - loss: 0.0179 - accuracy: 1.0000 - val_loss: 0.0488 - val_accuracy: 1.0000\n",
      "Epoch 131/200\n",
      "3/3 [==============================] - 0s 21ms/step - loss: 0.0168 - accuracy: 1.0000 - val_loss: 0.0366 - val_accuracy: 1.0000\n",
      "Epoch 132/200\n",
      "3/3 [==============================] - 0s 21ms/step - loss: 0.0198 - accuracy: 1.0000 - val_loss: 0.0326 - val_accuracy: 1.0000\n",
      "Epoch 133/200\n",
      "3/3 [==============================] - 0s 23ms/step - loss: 0.0173 - accuracy: 1.0000 - val_loss: 0.0867 - val_accuracy: 0.9500\n",
      "Epoch 134/200\n",
      "3/3 [==============================] - 0s 23ms/step - loss: 0.0183 - accuracy: 1.0000 - val_loss: 0.0481 - val_accuracy: 1.0000\n",
      "Epoch 135/200\n",
      "3/3 [==============================] - 0s 24ms/step - loss: 0.0162 - accuracy: 1.0000 - val_loss: 0.0702 - val_accuracy: 0.9500\n",
      "Epoch 136/200\n",
      "3/3 [==============================] - 0s 22ms/step - loss: 0.0174 - accuracy: 1.0000 - val_loss: 0.0259 - val_accuracy: 1.0000\n",
      "Epoch 137/200\n",
      "3/3 [==============================] - 0s 22ms/step - loss: 0.0215 - accuracy: 1.0000 - val_loss: 0.0628 - val_accuracy: 1.0000\n",
      "Epoch 138/200\n",
      "3/3 [==============================] - 0s 22ms/step - loss: 0.0173 - accuracy: 1.0000 - val_loss: 0.0436 - val_accuracy: 1.0000\n",
      "Epoch 139/200\n",
      "3/3 [==============================] - 0s 21ms/step - loss: 0.0151 - accuracy: 1.0000 - val_loss: 0.0547 - val_accuracy: 1.0000\n",
      "Epoch 140/200\n",
      "3/3 [==============================] - 0s 24ms/step - loss: 0.0167 - accuracy: 1.0000 - val_loss: 0.0255 - val_accuracy: 1.0000\n",
      "Epoch 141/200\n",
      "3/3 [==============================] - 0s 23ms/step - loss: 0.0224 - accuracy: 1.0000 - val_loss: 0.0458 - val_accuracy: 1.0000\n",
      "Epoch 142/200\n",
      "3/3 [==============================] - 0s 22ms/step - loss: 0.0166 - accuracy: 1.0000 - val_loss: 0.0684 - val_accuracy: 0.9500\n",
      "Epoch 143/200\n",
      "3/3 [==============================] - 0s 21ms/step - loss: 0.0162 - accuracy: 1.0000 - val_loss: 0.0327 - val_accuracy: 1.0000\n",
      "Epoch 144/200\n",
      "3/3 [==============================] - 0s 23ms/step - loss: 0.0167 - accuracy: 1.0000 - val_loss: 0.0302 - val_accuracy: 1.0000\n",
      "Epoch 145/200\n",
      "3/3 [==============================] - 0s 25ms/step - loss: 0.0154 - accuracy: 1.0000 - val_loss: 0.0361 - val_accuracy: 1.0000\n",
      "Epoch 146/200\n",
      "3/3 [==============================] - 0s 25ms/step - loss: 0.0143 - accuracy: 1.0000 - val_loss: 0.0433 - val_accuracy: 1.0000\n",
      "Epoch 147/200\n",
      "3/3 [==============================] - 0s 24ms/step - loss: 0.0148 - accuracy: 1.0000 - val_loss: 0.0496 - val_accuracy: 1.0000\n",
      "Epoch 148/200\n",
      "3/3 [==============================] - 0s 24ms/step - loss: 0.0163 - accuracy: 1.0000 - val_loss: 0.0238 - val_accuracy: 1.0000\n",
      "Epoch 149/200\n",
      "3/3 [==============================] - 0s 21ms/step - loss: 0.0167 - accuracy: 1.0000 - val_loss: 0.0427 - val_accuracy: 1.0000\n",
      "Epoch 150/200\n",
      "3/3 [==============================] - 0s 24ms/step - loss: 0.0134 - accuracy: 1.0000 - val_loss: 0.0434 - val_accuracy: 1.0000\n",
      "Epoch 151/200\n",
      "3/3 [==============================] - 0s 21ms/step - loss: 0.0142 - accuracy: 1.0000 - val_loss: 0.0322 - val_accuracy: 1.0000\n",
      "Epoch 152/200\n",
      "3/3 [==============================] - 0s 24ms/step - loss: 0.0147 - accuracy: 1.0000 - val_loss: 0.0554 - val_accuracy: 1.0000\n",
      "Epoch 153/200\n",
      "3/3 [==============================] - 0s 23ms/step - loss: 0.0134 - accuracy: 1.0000 - val_loss: 0.0436 - val_accuracy: 1.0000\n",
      "Epoch 154/200\n",
      "3/3 [==============================] - 0s 23ms/step - loss: 0.0143 - accuracy: 1.0000 - val_loss: 0.0980 - val_accuracy: 0.9500\n",
      "Epoch 155/200\n",
      "3/3 [==============================] - 0s 24ms/step - loss: 0.0168 - accuracy: 1.0000 - val_loss: 0.0627 - val_accuracy: 1.0000\n",
      "Epoch 156/200\n",
      "3/3 [==============================] - 0s 22ms/step - loss: 0.0131 - accuracy: 1.0000 - val_loss: 0.0318 - val_accuracy: 1.0000\n",
      "Epoch 157/200\n",
      "3/3 [==============================] - 0s 23ms/step - loss: 0.0137 - accuracy: 1.0000 - val_loss: 0.0326 - val_accuracy: 1.0000\n",
      "Epoch 158/200\n",
      "3/3 [==============================] - 0s 24ms/step - loss: 0.0125 - accuracy: 1.0000 - val_loss: 0.0476 - val_accuracy: 1.0000\n",
      "Epoch 159/200\n",
      "3/3 [==============================] - 0s 24ms/step - loss: 0.0126 - accuracy: 1.0000 - val_loss: 0.0503 - val_accuracy: 1.0000\n",
      "Epoch 160/200\n",
      "3/3 [==============================] - 0s 24ms/step - loss: 0.0134 - accuracy: 1.0000 - val_loss: 0.0643 - val_accuracy: 1.0000\n",
      "Epoch 161/200\n",
      "3/3 [==============================] - 0s 22ms/step - loss: 0.0152 - accuracy: 1.0000 - val_loss: 0.0886 - val_accuracy: 0.9500\n",
      "Epoch 162/200\n",
      "3/3 [==============================] - 0s 22ms/step - loss: 0.0140 - accuracy: 1.0000 - val_loss: 0.0333 - val_accuracy: 1.0000\n",
      "Epoch 163/200\n",
      "3/3 [==============================] - 0s 21ms/step - loss: 0.0122 - accuracy: 1.0000 - val_loss: 0.0485 - val_accuracy: 1.0000\n",
      "Epoch 164/200\n",
      "3/3 [==============================] - 0s 23ms/step - loss: 0.0120 - accuracy: 1.0000 - val_loss: 0.0384 - val_accuracy: 1.0000\n",
      "Epoch 165/200\n",
      "3/3 [==============================] - 0s 28ms/step - loss: 0.0118 - accuracy: 1.0000 - val_loss: 0.0571 - val_accuracy: 1.0000\n",
      "Epoch 166/200\n",
      "3/3 [==============================] - 0s 27ms/step - loss: 0.0119 - accuracy: 1.0000 - val_loss: 0.0369 - val_accuracy: 1.0000\n",
      "Epoch 167/200\n",
      "3/3 [==============================] - 0s 24ms/step - loss: 0.0115 - accuracy: 1.0000 - val_loss: 0.0359 - val_accuracy: 1.0000\n",
      "Epoch 168/200\n",
      "3/3 [==============================] - 0s 24ms/step - loss: 0.0118 - accuracy: 1.0000 - val_loss: 0.0261 - val_accuracy: 1.0000\n",
      "Epoch 169/200\n",
      "3/3 [==============================] - 0s 21ms/step - loss: 0.0127 - accuracy: 1.0000 - val_loss: 0.0364 - val_accuracy: 1.0000\n",
      "Epoch 170/200\n",
      "3/3 [==============================] - 0s 21ms/step - loss: 0.0113 - accuracy: 1.0000 - val_loss: 0.0324 - val_accuracy: 1.0000\n",
      "Epoch 171/200\n",
      "3/3 [==============================] - 0s 21ms/step - loss: 0.0119 - accuracy: 1.0000 - val_loss: 0.0266 - val_accuracy: 1.0000\n",
      "Epoch 172/200\n",
      "3/3 [==============================] - 0s 24ms/step - loss: 0.0115 - accuracy: 1.0000 - val_loss: 0.0571 - val_accuracy: 1.0000\n",
      "Epoch 173/200\n",
      "3/3 [==============================] - 0s 24ms/step - loss: 0.0129 - accuracy: 1.0000 - val_loss: 0.0518 - val_accuracy: 1.0000\n",
      "Epoch 174/200\n",
      "3/3 [==============================] - 0s 23ms/step - loss: 0.0109 - accuracy: 1.0000 - val_loss: 0.0349 - val_accuracy: 1.0000\n",
      "Epoch 175/200\n",
      "3/3 [==============================] - 0s 23ms/step - loss: 0.0114 - accuracy: 1.0000 - val_loss: 0.0485 - val_accuracy: 1.0000\n",
      "Epoch 176/200\n",
      "3/3 [==============================] - 0s 22ms/step - loss: 0.0128 - accuracy: 1.0000 - val_loss: 0.0512 - val_accuracy: 1.0000\n",
      "Epoch 177/200\n",
      "3/3 [==============================] - 0s 20ms/step - loss: 0.0109 - accuracy: 1.0000 - val_loss: 0.0442 - val_accuracy: 1.0000\n",
      "Epoch 178/200\n",
      "3/3 [==============================] - 0s 21ms/step - loss: 0.0106 - accuracy: 1.0000 - val_loss: 0.0474 - val_accuracy: 1.0000\n",
      "Epoch 179/200\n",
      "3/3 [==============================] - 0s 24ms/step - loss: 0.0113 - accuracy: 1.0000 - val_loss: 0.0216 - val_accuracy: 1.0000\n",
      "Epoch 180/200\n",
      "3/3 [==============================] - 0s 25ms/step - loss: 0.0118 - accuracy: 1.0000 - val_loss: 0.0388 - val_accuracy: 1.0000\n",
      "Epoch 181/200\n",
      "3/3 [==============================] - 0s 27ms/step - loss: 0.0105 - accuracy: 1.0000 - val_loss: 0.0377 - val_accuracy: 1.0000\n",
      "Epoch 182/200\n",
      "3/3 [==============================] - 0s 23ms/step - loss: 0.0100 - accuracy: 1.0000 - val_loss: 0.0391 - val_accuracy: 1.0000\n",
      "Epoch 183/200\n",
      "3/3 [==============================] - 0s 22ms/step - loss: 0.0102 - accuracy: 1.0000 - val_loss: 0.0296 - val_accuracy: 1.0000\n",
      "Epoch 184/200\n",
      "3/3 [==============================] - 0s 21ms/step - loss: 0.0103 - accuracy: 1.0000 - val_loss: 0.0638 - val_accuracy: 1.0000\n",
      "Epoch 185/200\n",
      "3/3 [==============================] - 0s 24ms/step - loss: 0.0109 - accuracy: 1.0000 - val_loss: 0.0361 - val_accuracy: 1.0000\n",
      "Epoch 186/200\n",
      "3/3 [==============================] - 0s 25ms/step - loss: 0.0102 - accuracy: 1.0000 - val_loss: 0.0597 - val_accuracy: 1.0000\n",
      "Epoch 187/200\n",
      "3/3 [==============================] - 0s 25ms/step - loss: 0.0103 - accuracy: 1.0000 - val_loss: 0.0348 - val_accuracy: 1.0000\n",
      "Epoch 188/200\n",
      "3/3 [==============================] - 0s 24ms/step - loss: 0.0099 - accuracy: 1.0000 - val_loss: 0.0503 - val_accuracy: 1.0000\n",
      "Epoch 189/200\n",
      "3/3 [==============================] - 0s 21ms/step - loss: 0.0108 - accuracy: 1.0000 - val_loss: 0.0714 - val_accuracy: 0.9500\n",
      "Epoch 190/200\n",
      "3/3 [==============================] - 0s 22ms/step - loss: 0.0136 - accuracy: 1.0000 - val_loss: 0.0409 - val_accuracy: 1.0000\n",
      "Epoch 191/200\n",
      "3/3 [==============================] - 0s 23ms/step - loss: 0.0094 - accuracy: 1.0000 - val_loss: 0.0369 - val_accuracy: 1.0000\n",
      "Epoch 192/200\n",
      "3/3 [==============================] - 0s 23ms/step - loss: 0.0093 - accuracy: 1.0000 - val_loss: 0.0294 - val_accuracy: 1.0000\n",
      "Epoch 193/200\n",
      "3/3 [==============================] - 0s 24ms/step - loss: 0.0097 - accuracy: 1.0000 - val_loss: 0.0369 - val_accuracy: 1.0000\n",
      "Epoch 194/200\n",
      "3/3 [==============================] - 0s 26ms/step - loss: 0.0097 - accuracy: 1.0000 - val_loss: 0.0266 - val_accuracy: 1.0000\n",
      "Epoch 195/200\n",
      "3/3 [==============================] - 0s 24ms/step - loss: 0.0097 - accuracy: 1.0000 - val_loss: 0.0278 - val_accuracy: 1.0000\n",
      "Epoch 196/200\n",
      "3/3 [==============================] - 0s 23ms/step - loss: 0.0098 - accuracy: 1.0000 - val_loss: 0.0254 - val_accuracy: 1.0000\n",
      "Epoch 197/200\n",
      "3/3 [==============================] - 0s 23ms/step - loss: 0.0096 - accuracy: 1.0000 - val_loss: 0.0286 - val_accuracy: 1.0000\n",
      "Epoch 198/200\n",
      "3/3 [==============================] - 0s 21ms/step - loss: 0.0090 - accuracy: 1.0000 - val_loss: 0.0350 - val_accuracy: 1.0000\n",
      "Epoch 199/200\n",
      "3/3 [==============================] - 0s 21ms/step - loss: 0.0092 - accuracy: 1.0000 - val_loss: 0.0531 - val_accuracy: 1.0000\n",
      "Epoch 200/200\n",
      "3/3 [==============================] - 0s 23ms/step - loss: 0.0097 - accuracy: 1.0000 - val_loss: 0.0329 - val_accuracy: 1.0000\n"
     ]
    }
   ],
   "source": [
    "H = model.fit(x_train, y_train, validation_data=(x_test, y_test), \n",
    "          epochs=max_epochs, batch_size=32)"
   ]
  },
  {
   "cell_type": "code",
   "execution_count": 67,
   "metadata": {},
   "outputs": [
    {
     "data": {
      "image/png": "[encoded data removed]",
      "text/plain": [
       "<Figure size 432x288 with 1 Axes>"
      ]
     },
     "metadata": {},
     "output_type": "display_data"
    }
   ],
   "source": [
    "N = np.arange(0, max_epochs)\n",
    "plt.style.use(\"ggplot\")\n",
    "plt.figure()\n",
    "plt.plot(N, H.history[\"loss\"], label=\"train_loss\")\n",
    "plt.plot(N, H.history[\"val_loss\"], label=\"val_loss\")\n",
    "#plt.plot(N, H.history[\"accuracy\"], label=\"train_acc\")\n",
    "#plt.plot(N, H.history[\"val_accuracy\"], label=\"val_acc\")\n",
    "plt.xlabel(\"Epoch #\")\n",
    "plt.legend()\n",
    "plt.show()"
   ]
  },
  {
   "cell_type": "markdown",
   "metadata": {},
   "source": [
    "<h3>7. Evaluate the Model</h3>"
   ]
  },
  {
   "cell_type": "code",
   "execution_count": 68,
   "metadata": {},
   "outputs": [
    {
     "name": "stdout",
     "output_type": "stream",
     "text": [
      "                     precision    recall  f1-score   support\n",
      "\n",
      "        daun_nangka       1.00      1.00      1.00         8\n",
      "daun_belimbingwuluh       1.00      1.00      1.00        12\n",
      "\n",
      "           accuracy                           1.00        20\n",
      "          macro avg       1.00      1.00      1.00        20\n",
      "       weighted avg       1.00      1.00      1.00        20\n",
      "\n"
     ]
    },
    {
     "name": "stderr",
     "output_type": "stream",
     "text": [
      "C:\\Users\\n1z4r\\AppData\\Local\\Temp/ipykernel_37796/954476436.py:3: DeprecationWarning: `np.int` is a deprecated alias for the builtin `int`. To silence this warning, use `int` by itself. Doing this will not modify any behavior and is safe. When replacing `np.int`, you may wish to use e.g. `np.int64` or `np.int32` to specify the precision. If you wish to review your current use, check the release note link for additional information.\n",
      "Deprecated in NumPy 1.20; for more details and guidance: https://numpy.org/devdocs/release/1.20.0-notes.html#deprecations\n",
      "  target = (predictions > 0.5).astype(np.int)\n"
     ]
    }
   ],
   "source": [
    "# menghitung nilai akurasi model terhadap data test\n",
    "predictions = model.predict(x_test, batch_size=32)\n",
    "target = (predictions > 0.5).astype(np.int)\n",
    "print(classification_report(y_test, target, target_names=label_list))"
   ]
  },
  {
   "cell_type": "code",
   "execution_count": 49,
   "metadata": {},
   "outputs": [
    {
     "name": "stdout",
     "output_type": "stream",
     "text": [
      "[[0.47482058]]\n"
     ]
    }
   ],
   "source": [
    "# uji model menggunakan image lain\n",
    "queryPath = imagePaths+'daun_belimbingwuluh5_tes (2).jpg'\n",
    "query = cv2.imread(queryPath)\n",
    "output = query.copy()\n",
    "query = cv2.resize(query, (32, 32))\n",
    "q = []\n",
    "q.append(query)\n",
    "q = np.array(q, dtype='float') / 255.0\n",
    "\n",
    "q_pred = model.predict(q)\n",
    "i = q_pred.argmax(axis=1)[0]\n",
    "print(q_pred)"
   ]
  },
  {
   "cell_type": "code",
   "execution_count": 50,
   "metadata": {},
   "outputs": [],
   "source": [
    "if q_pred<=0.5 :\n",
    "    target = \"Daun Nangka\"\n",
    "else :\n",
    "    target = \"Daun Belimbing Wuluh\"\n",
    "text = \"{}: {:.2f}%\".format(target, q_pred[0][i] * 100)\n",
    "cv2.putText(output, text, (10, 30), cv2.FONT_HERSHEY_SIMPLEX, 0.7, (0, 0, 255), 2)\n",
    " \n",
    "# menampilkan output image\n",
    "cv2.imshow('Output', output)\n",
    "cv2.waitKey() # image tidak akan diclose,sebelum user menekan sembarang tombol\n",
    "cv2.destroyWindow('Output') # image akan diclose"
   ]
  },
  {
   "cell_type": "code",
   "execution_count": null,
   "metadata": {},
   "outputs": [],
   "source": []
  }
 ],
 "metadata": {
  "kernelspec": {
   "display_name": "Python 3 (ipykernel)",
   "language": "python",
   "name": "python3"
  },
  "language_info": {
   "codemirror_mode": {
    "name": "ipython",
    "version": 3
   },
   "file_extension": ".py",
   "mimetype": "text/x-python",
   "name": "python",
   "nbconvert_exporter": "python",
   "pygments_lexer": "ipython3",
   "version": "3.9.4"
  }
 },
 "nbformat": 4,
 "nbformat_minor": 4
}
