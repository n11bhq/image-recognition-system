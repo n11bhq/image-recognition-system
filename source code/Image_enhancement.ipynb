{
 "cells": [
  {
   "cell_type": "code",
   "execution_count": 2,
   "id": "43c60b0e-03b4-40a3-8397-41b8ae95e385",
   "metadata": {},
   "outputs": [],
   "source": [
    "import cv2"
   ]
  },
  {
   "cell_type": "code",
   "execution_count": 3,
   "id": "b7db0033-6b8a-4340-ad01-ea4c69d2c149",
   "metadata": {},
   "outputs": [],
   "source": [
    "#membaca image\n",
    "image =cv2.imread(\"001.jpg\")"
   ]
  },
  {
   "cell_type": "code",
   "execution_count": null,
   "id": "f83b31d0-148d-4012-9777-86300b6f68b3",
   "metadata": {},
   "outputs": [],
   "source": [
    "print(image)"
   ]
  },
  {
   "cell_type": "code",
   "execution_count": 5,
   "id": "2b6f8af8-6e21-4eea-a6fe-4f9ad452d442",
   "metadata": {},
   "outputs": [],
   "source": [
    "#menampilkan image\n",
    "cv2.imshow('001', image)\n",
    "cv2.waitKey(0)\n",
    "cv2.destroyAllWindows()"
   ]
  },
  {
   "cell_type": "code",
   "execution_count": null,
   "id": "0cadf506-c2cc-49b7-a595-cea4f3d91ff2",
   "metadata": {},
   "outputs": [],
   "source": [
    "print(image.shape)"
   ]
  },
  {
   "cell_type": "code",
   "execution_count": null,
   "id": "be1a8c12-671a-410f-b290-87178c6ff46f",
   "metadata": {},
   "outputs": [],
   "source": [
    "#mengakses nilai di pixel x=100, y=20\n",
    "(b, g, r) = image[20, 100]\n",
    "print(\"blue = \",b)\n",
    "print(\"green = \",g)\n",
    "print(\"red = \",r)"
   ]
  },
  {
   "cell_type": "code",
   "execution_count": null,
   "id": "b21e454b-9e57-4f7d-a384-929762a5c33d",
   "metadata": {},
   "outputs": [],
   "source": [
    "#crop image\n",
    "im_crop = image[100:660, 100:380]\n",
    "\n",
    "cv2.imshow('crop', im_crop)\n",
    "cv2.waitKey(0)\n",
    "cv2.destroyAllWindows()\n",
    "print(im_crop.shape)"
   ]
  },
  {
   "cell_type": "code",
   "execution_count": null,
   "id": "db633e52-096b-42ab-b10d-ff1904049d9c",
   "metadata": {},
   "outputs": [],
   "source": [
    "#copy image\n",
    "cp_image = image.copy()\n",
    "print(cp_image.shape)"
   ]
  },
  {
   "cell_type": "code",
   "execution_count": null,
   "id": "ce1877a6-84e7-40f1-8020-22a17b9e5401",
   "metadata": {},
   "outputs": [],
   "source": [
    "#mengubah nilai pixel\n",
    "cp_image = [300:350, 170:300] = (255, 255, 255)\n",
    "\n",
    "cv2.imshow('cp_image', im_crop)\n",
    "cv2.waitKey(0)\n",
    "cv2.destroyAllWindows()"
   ]
  },
  {
   "cell_type": "code",
   "execution_count": 11,
   "id": "be250e06-5e35-4866-bcc0-565e04c2c762",
   "metadata": {},
   "outputs": [],
   "source": [
    "#resize image (ignore aspect ratio)\n",
    "im_resized = cv2.resize(image, (400,400))\n",
    "\n",
    "cv2.imshow('im_resized', im_resized)\n",
    "cv2.waitKey(0)\n",
    "cv2.destroyAllWindows()"
   ]
  },
  {
   "cell_type": "code",
   "execution_count": 12,
   "id": "7f172852-60f2-425a-bb6f-f08789d5c34d",
   "metadata": {},
   "outputs": [],
   "source": [
    "#resize image (mempertahankan aspect ratio)\n",
    "r = 400/image.shape[1]\n",
    "dim = (400, int(image.shape[0]*r))\n",
    "im_resized = cv2.resize(image, dim)\n",
    "\n",
    "cv2.imshow('im_resized', im_resized)\n",
    "cv2.waitKey(0)\n",
    "cv2.destroyAllWindows()"
   ]
  }
 ],
 "metadata": {
  "interpreter": {
   "hash": "cabea3dae0b5648981324ada70e09e99249da10caf154a82f4fe7c6c05e06310"
  },
  "kernelspec": {
   "display_name": "Python 3.10.0 64-bit",
   "name": "python3"
  },
  "language_info": {
   "codemirror_mode": {
    "name": "ipython",
    "version": 3
   },
   "file_extension": ".py",
   "mimetype": "text/x-python",
   "name": "python",
   "nbconvert_exporter": "python",
   "pygments_lexer": "ipython3",
   "version": "3.10.0"
  }
 },
 "nbformat": 4,
 "nbformat_minor": 5
}
